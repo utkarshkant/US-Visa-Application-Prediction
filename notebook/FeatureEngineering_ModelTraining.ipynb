{
 "cells": [
  {
   "cell_type": "markdown",
   "metadata": {},
   "source": [
    "# IMPORTS"
   ]
  },
  {
   "cell_type": "code",
   "execution_count": 105,
   "metadata": {},
   "outputs": [],
   "source": [
    "# imports\n",
    "import pandas as pd\n",
    "import numpy as np\n",
    "import matplotlib.pyplot as plt\n",
    "import seaborn as sns\n",
    "from datetime import date\n",
    "from sklearn.preprocessing import OneHotEncoder, StandardScaler, OrdinalEncoder, PowerTransformer\n",
    "from sklearn.compose import ColumnTransformer \n",
    "from sklearn.pipeline import Pipeline\n",
    "from imblearn.combine import SMOTETomek, SMOTEENN\n",
    "from sklearn.model_selection import train_test_split, RandomizedSearchCV\n",
    "from sklearn.ensemble import RandomForestClassifier, AdaBoostClassifier, GradientBoostingClassifier\n",
    "from sklearn.linear_model import LogisticRegression\n",
    "from sklearn.neighbors import KNeighborsClassifier\n",
    "from sklearn.tree import DecisionTreeClassifier\n",
    "from sklearn.svm import SVC\n",
    "from sklearn.metrics import accuracy_score, classification_report, ConfusionMatrixDisplay, precision_score, recall_score, f1_score, roc_auc_score, roc_curve \n",
    "from xgboost import XGBClassifier\n",
    "from catboost import CatBoostClassifier\n",
    "import warnings\n",
    "\n",
    "# configuration\n",
    "warnings.filterwarnings(\"ignore\")\n",
    "sns.set_style(\"whitegrid\")\n",
    "pd.set_option(\"display.max_columns\", None)"
   ]
  },
  {
   "cell_type": "markdown",
   "metadata": {},
   "source": [
    "# LOAD DATA"
   ]
  },
  {
   "cell_type": "code",
   "execution_count": 35,
   "metadata": {},
   "outputs": [],
   "source": [
    "# load data\n",
    "df = pd.read_csv(\"EasyVisa.csv\")"
   ]
  },
  {
   "cell_type": "code",
   "execution_count": 36,
   "metadata": {},
   "outputs": [
    {
     "data": {
      "text/html": [
       "<div>\n",
       "<style scoped>\n",
       "    .dataframe tbody tr th:only-of-type {\n",
       "        vertical-align: middle;\n",
       "    }\n",
       "\n",
       "    .dataframe tbody tr th {\n",
       "        vertical-align: top;\n",
       "    }\n",
       "\n",
       "    .dataframe thead th {\n",
       "        text-align: right;\n",
       "    }\n",
       "</style>\n",
       "<table border=\"1\" class=\"dataframe\">\n",
       "  <thead>\n",
       "    <tr style=\"text-align: right;\">\n",
       "      <th></th>\n",
       "      <th>case_id</th>\n",
       "      <th>continent</th>\n",
       "      <th>education_of_employee</th>\n",
       "      <th>has_job_experience</th>\n",
       "      <th>requires_job_training</th>\n",
       "      <th>no_of_employees</th>\n",
       "      <th>yr_of_estab</th>\n",
       "      <th>region_of_employment</th>\n",
       "      <th>prevailing_wage</th>\n",
       "      <th>unit_of_wage</th>\n",
       "      <th>full_time_position</th>\n",
       "      <th>case_status</th>\n",
       "    </tr>\n",
       "  </thead>\n",
       "  <tbody>\n",
       "    <tr>\n",
       "      <th>7905</th>\n",
       "      <td>EZYV7906</td>\n",
       "      <td>Asia</td>\n",
       "      <td>Bachelor's</td>\n",
       "      <td>N</td>\n",
       "      <td>Y</td>\n",
       "      <td>963</td>\n",
       "      <td>1971</td>\n",
       "      <td>South</td>\n",
       "      <td>29872.70</td>\n",
       "      <td>Year</td>\n",
       "      <td>Y</td>\n",
       "      <td>Certified</td>\n",
       "    </tr>\n",
       "    <tr>\n",
       "      <th>24581</th>\n",
       "      <td>EZYV24582</td>\n",
       "      <td>Asia</td>\n",
       "      <td>Master's</td>\n",
       "      <td>Y</td>\n",
       "      <td>N</td>\n",
       "      <td>4503</td>\n",
       "      <td>2000</td>\n",
       "      <td>Midwest</td>\n",
       "      <td>154937.84</td>\n",
       "      <td>Year</td>\n",
       "      <td>Y</td>\n",
       "      <td>Certified</td>\n",
       "    </tr>\n",
       "    <tr>\n",
       "      <th>22034</th>\n",
       "      <td>EZYV22035</td>\n",
       "      <td>Asia</td>\n",
       "      <td>High School</td>\n",
       "      <td>Y</td>\n",
       "      <td>N</td>\n",
       "      <td>2769</td>\n",
       "      <td>2012</td>\n",
       "      <td>West</td>\n",
       "      <td>37185.38</td>\n",
       "      <td>Week</td>\n",
       "      <td>Y</td>\n",
       "      <td>Certified</td>\n",
       "    </tr>\n",
       "    <tr>\n",
       "      <th>11827</th>\n",
       "      <td>EZYV11828</td>\n",
       "      <td>Asia</td>\n",
       "      <td>High School</td>\n",
       "      <td>Y</td>\n",
       "      <td>N</td>\n",
       "      <td>3502</td>\n",
       "      <td>1931</td>\n",
       "      <td>South</td>\n",
       "      <td>66600.44</td>\n",
       "      <td>Year</td>\n",
       "      <td>Y</td>\n",
       "      <td>Denied</td>\n",
       "    </tr>\n",
       "    <tr>\n",
       "      <th>4235</th>\n",
       "      <td>EZYV4236</td>\n",
       "      <td>North America</td>\n",
       "      <td>Master's</td>\n",
       "      <td>N</td>\n",
       "      <td>N</td>\n",
       "      <td>775</td>\n",
       "      <td>2012</td>\n",
       "      <td>West</td>\n",
       "      <td>106851.83</td>\n",
       "      <td>Year</td>\n",
       "      <td>Y</td>\n",
       "      <td>Denied</td>\n",
       "    </tr>\n",
       "    <tr>\n",
       "      <th>25217</th>\n",
       "      <td>EZYV25218</td>\n",
       "      <td>Asia</td>\n",
       "      <td>Bachelor's</td>\n",
       "      <td>N</td>\n",
       "      <td>Y</td>\n",
       "      <td>2393</td>\n",
       "      <td>1995</td>\n",
       "      <td>West</td>\n",
       "      <td>191745.22</td>\n",
       "      <td>Year</td>\n",
       "      <td>Y</td>\n",
       "      <td>Denied</td>\n",
       "    </tr>\n",
       "    <tr>\n",
       "      <th>23478</th>\n",
       "      <td>EZYV23479</td>\n",
       "      <td>Asia</td>\n",
       "      <td>Doctorate</td>\n",
       "      <td>Y</td>\n",
       "      <td>N</td>\n",
       "      <td>1044</td>\n",
       "      <td>2001</td>\n",
       "      <td>Northeast</td>\n",
       "      <td>65874.08</td>\n",
       "      <td>Year</td>\n",
       "      <td>Y</td>\n",
       "      <td>Denied</td>\n",
       "    </tr>\n",
       "    <tr>\n",
       "      <th>17141</th>\n",
       "      <td>EZYV17142</td>\n",
       "      <td>Asia</td>\n",
       "      <td>Master's</td>\n",
       "      <td>Y</td>\n",
       "      <td>N</td>\n",
       "      <td>392</td>\n",
       "      <td>2011</td>\n",
       "      <td>Midwest</td>\n",
       "      <td>118752.61</td>\n",
       "      <td>Year</td>\n",
       "      <td>Y</td>\n",
       "      <td>Certified</td>\n",
       "    </tr>\n",
       "    <tr>\n",
       "      <th>4629</th>\n",
       "      <td>EZYV4630</td>\n",
       "      <td>Asia</td>\n",
       "      <td>Master's</td>\n",
       "      <td>Y</td>\n",
       "      <td>N</td>\n",
       "      <td>1544</td>\n",
       "      <td>1997</td>\n",
       "      <td>Northeast</td>\n",
       "      <td>28935.69</td>\n",
       "      <td>Year</td>\n",
       "      <td>N</td>\n",
       "      <td>Certified</td>\n",
       "    </tr>\n",
       "    <tr>\n",
       "      <th>22019</th>\n",
       "      <td>EZYV22020</td>\n",
       "      <td>Europe</td>\n",
       "      <td>Master's</td>\n",
       "      <td>Y</td>\n",
       "      <td>N</td>\n",
       "      <td>1841</td>\n",
       "      <td>1953</td>\n",
       "      <td>Midwest</td>\n",
       "      <td>80815.70</td>\n",
       "      <td>Year</td>\n",
       "      <td>Y</td>\n",
       "      <td>Certified</td>\n",
       "    </tr>\n",
       "  </tbody>\n",
       "</table>\n",
       "</div>"
      ],
      "text/plain": [
       "         case_id      continent education_of_employee has_job_experience  \\\n",
       "7905    EZYV7906           Asia            Bachelor's                  N   \n",
       "24581  EZYV24582           Asia              Master's                  Y   \n",
       "22034  EZYV22035           Asia           High School                  Y   \n",
       "11827  EZYV11828           Asia           High School                  Y   \n",
       "4235    EZYV4236  North America              Master's                  N   \n",
       "25217  EZYV25218           Asia            Bachelor's                  N   \n",
       "23478  EZYV23479           Asia             Doctorate                  Y   \n",
       "17141  EZYV17142           Asia              Master's                  Y   \n",
       "4629    EZYV4630           Asia              Master's                  Y   \n",
       "22019  EZYV22020         Europe              Master's                  Y   \n",
       "\n",
       "      requires_job_training  no_of_employees  yr_of_estab  \\\n",
       "7905                      Y              963         1971   \n",
       "24581                     N             4503         2000   \n",
       "22034                     N             2769         2012   \n",
       "11827                     N             3502         1931   \n",
       "4235                      N              775         2012   \n",
       "25217                     Y             2393         1995   \n",
       "23478                     N             1044         2001   \n",
       "17141                     N              392         2011   \n",
       "4629                      N             1544         1997   \n",
       "22019                     N             1841         1953   \n",
       "\n",
       "      region_of_employment  prevailing_wage unit_of_wage full_time_position  \\\n",
       "7905                 South         29872.70         Year                  Y   \n",
       "24581              Midwest        154937.84         Year                  Y   \n",
       "22034                 West         37185.38         Week                  Y   \n",
       "11827                South         66600.44         Year                  Y   \n",
       "4235                  West        106851.83         Year                  Y   \n",
       "25217                 West        191745.22         Year                  Y   \n",
       "23478            Northeast         65874.08         Year                  Y   \n",
       "17141              Midwest        118752.61         Year                  Y   \n",
       "4629             Northeast         28935.69         Year                  N   \n",
       "22019              Midwest         80815.70         Year                  Y   \n",
       "\n",
       "      case_status  \n",
       "7905    Certified  \n",
       "24581   Certified  \n",
       "22034   Certified  \n",
       "11827      Denied  \n",
       "4235       Denied  \n",
       "25217      Denied  \n",
       "23478      Denied  \n",
       "17141   Certified  \n",
       "4629    Certified  \n",
       "22019   Certified  "
      ]
     },
     "execution_count": 36,
     "metadata": {},
     "output_type": "execute_result"
    }
   ],
   "source": [
    "# preview data\n",
    "df.sample(10)"
   ]
  },
  {
   "cell_type": "code",
   "execution_count": 37,
   "metadata": {},
   "outputs": [
    {
     "name": "stdout",
     "output_type": "stream",
     "text": [
      "<class 'pandas.core.frame.DataFrame'>\n",
      "RangeIndex: 25480 entries, 0 to 25479\n",
      "Data columns (total 12 columns):\n",
      " #   Column                 Non-Null Count  Dtype  \n",
      "---  ------                 --------------  -----  \n",
      " 0   case_id                25480 non-null  object \n",
      " 1   continent              25480 non-null  object \n",
      " 2   education_of_employee  25480 non-null  object \n",
      " 3   has_job_experience     25480 non-null  object \n",
      " 4   requires_job_training  25480 non-null  object \n",
      " 5   no_of_employees        25480 non-null  int64  \n",
      " 6   yr_of_estab            25480 non-null  int64  \n",
      " 7   region_of_employment   25480 non-null  object \n",
      " 8   prevailing_wage        25480 non-null  float64\n",
      " 9   unit_of_wage           25480 non-null  object \n",
      " 10  full_time_position     25480 non-null  object \n",
      " 11  case_status            25480 non-null  object \n",
      "dtypes: float64(1), int64(2), object(9)\n",
      "memory usage: 2.3+ MB\n"
     ]
    }
   ],
   "source": [
    "df.info()"
   ]
  },
  {
   "cell_type": "markdown",
   "metadata": {},
   "source": [
    "# DATA PRE-PROCESSING"
   ]
  },
  {
   "cell_type": "markdown",
   "metadata": {},
   "source": [
    "## 1. Missing Values"
   ]
  },
  {
   "cell_type": "code",
   "execution_count": 38,
   "metadata": {},
   "outputs": [
    {
     "data": {
      "text/plain": [
       "case_id                  0.0\n",
       "continent                0.0\n",
       "education_of_employee    0.0\n",
       "has_job_experience       0.0\n",
       "requires_job_training    0.0\n",
       "no_of_employees          0.0\n",
       "yr_of_estab              0.0\n",
       "region_of_employment     0.0\n",
       "prevailing_wage          0.0\n",
       "unit_of_wage             0.0\n",
       "full_time_position       0.0\n",
       "case_status              0.0\n",
       "dtype: float64"
      ]
     },
     "execution_count": 38,
     "metadata": {},
     "output_type": "execute_result"
    }
   ],
   "source": [
    "# check null values\n",
    "df.isnull().mean().mul(100).round(2).sort_values(ascending=False)"
   ]
  },
  {
   "cell_type": "markdown",
   "metadata": {},
   "source": [
    "- no null values in the dataset"
   ]
  },
  {
   "cell_type": "markdown",
   "metadata": {},
   "source": [
    "## 2. Duplicate Values"
   ]
  },
  {
   "cell_type": "code",
   "execution_count": 39,
   "metadata": {},
   "outputs": [
    {
     "data": {
      "text/plain": [
       "0"
      ]
     },
     "execution_count": 39,
     "metadata": {},
     "output_type": "execute_result"
    }
   ],
   "source": [
    "df.duplicated().sum()"
   ]
  },
  {
   "cell_type": "markdown",
   "metadata": {},
   "source": [
    "- No duplicates in the dataset"
   ]
  },
  {
   "cell_type": "markdown",
   "metadata": {},
   "source": [
    "## 3. Drop Columns"
   ]
  },
  {
   "cell_type": "code",
   "execution_count": 40,
   "metadata": {},
   "outputs": [
    {
     "name": "stdout",
     "output_type": "stream",
     "text": [
      "(25480, 12)\n",
      "(25480, 11)\n"
     ]
    }
   ],
   "source": [
    "# drop columns\n",
    "print(df.shape)\n",
    "df.drop(['case_id'], axis=1, inplace=True)\n",
    "print(df.shape)"
   ]
  },
  {
   "cell_type": "markdown",
   "metadata": {},
   "source": [
    "# FEATURE ENGINEERING"
   ]
  },
  {
   "cell_type": "markdown",
   "metadata": {},
   "source": [
    "## 1. Feature Extraction"
   ]
  },
  {
   "cell_type": "code",
   "execution_count": 41,
   "metadata": {},
   "outputs": [
    {
     "name": "stdout",
     "output_type": "stream",
     "text": [
      "2024-09-07 2024\n"
     ]
    }
   ],
   "source": [
    "# create today's date\n",
    "todays_date = date.today()\n",
    "current_year = todays_date.year\n",
    "print(todays_date, current_year)"
   ]
  },
  {
   "cell_type": "markdown",
   "metadata": {},
   "source": [
    "### `company_age`"
   ]
  },
  {
   "cell_type": "code",
   "execution_count": 42,
   "metadata": {},
   "outputs": [],
   "source": [
    "df['company_age'] = current_year - df['yr_of_estab']"
   ]
  },
  {
   "cell_type": "code",
   "execution_count": 43,
   "metadata": {},
   "outputs": [
    {
     "data": {
      "text/html": [
       "<div>\n",
       "<style scoped>\n",
       "    .dataframe tbody tr th:only-of-type {\n",
       "        vertical-align: middle;\n",
       "    }\n",
       "\n",
       "    .dataframe tbody tr th {\n",
       "        vertical-align: top;\n",
       "    }\n",
       "\n",
       "    .dataframe thead th {\n",
       "        text-align: right;\n",
       "    }\n",
       "</style>\n",
       "<table border=\"1\" class=\"dataframe\">\n",
       "  <thead>\n",
       "    <tr style=\"text-align: right;\">\n",
       "      <th></th>\n",
       "      <th>continent</th>\n",
       "      <th>education_of_employee</th>\n",
       "      <th>has_job_experience</th>\n",
       "      <th>requires_job_training</th>\n",
       "      <th>no_of_employees</th>\n",
       "      <th>yr_of_estab</th>\n",
       "      <th>region_of_employment</th>\n",
       "      <th>prevailing_wage</th>\n",
       "      <th>unit_of_wage</th>\n",
       "      <th>full_time_position</th>\n",
       "      <th>case_status</th>\n",
       "      <th>company_age</th>\n",
       "    </tr>\n",
       "  </thead>\n",
       "  <tbody>\n",
       "    <tr>\n",
       "      <th>7465</th>\n",
       "      <td>Asia</td>\n",
       "      <td>Master's</td>\n",
       "      <td>N</td>\n",
       "      <td>N</td>\n",
       "      <td>266</td>\n",
       "      <td>1998</td>\n",
       "      <td>Northeast</td>\n",
       "      <td>64640.11</td>\n",
       "      <td>Year</td>\n",
       "      <td>Y</td>\n",
       "      <td>Certified</td>\n",
       "      <td>26</td>\n",
       "    </tr>\n",
       "    <tr>\n",
       "      <th>20051</th>\n",
       "      <td>North America</td>\n",
       "      <td>Master's</td>\n",
       "      <td>N</td>\n",
       "      <td>N</td>\n",
       "      <td>758</td>\n",
       "      <td>2003</td>\n",
       "      <td>Midwest</td>\n",
       "      <td>78900.51</td>\n",
       "      <td>Year</td>\n",
       "      <td>N</td>\n",
       "      <td>Certified</td>\n",
       "      <td>21</td>\n",
       "    </tr>\n",
       "    <tr>\n",
       "      <th>9908</th>\n",
       "      <td>Asia</td>\n",
       "      <td>Master's</td>\n",
       "      <td>Y</td>\n",
       "      <td>N</td>\n",
       "      <td>636</td>\n",
       "      <td>2005</td>\n",
       "      <td>South</td>\n",
       "      <td>124218.44</td>\n",
       "      <td>Year</td>\n",
       "      <td>Y</td>\n",
       "      <td>Certified</td>\n",
       "      <td>19</td>\n",
       "    </tr>\n",
       "  </tbody>\n",
       "</table>\n",
       "</div>"
      ],
      "text/plain": [
       "           continent education_of_employee has_job_experience  \\\n",
       "7465            Asia              Master's                  N   \n",
       "20051  North America              Master's                  N   \n",
       "9908            Asia              Master's                  Y   \n",
       "\n",
       "      requires_job_training  no_of_employees  yr_of_estab  \\\n",
       "7465                      N              266         1998   \n",
       "20051                     N              758         2003   \n",
       "9908                      N              636         2005   \n",
       "\n",
       "      region_of_employment  prevailing_wage unit_of_wage full_time_position  \\\n",
       "7465             Northeast         64640.11         Year                  Y   \n",
       "20051              Midwest         78900.51         Year                  N   \n",
       "9908                 South        124218.44         Year                  Y   \n",
       "\n",
       "      case_status  company_age  \n",
       "7465    Certified           26  \n",
       "20051   Certified           21  \n",
       "9908    Certified           19  "
      ]
     },
     "execution_count": 43,
     "metadata": {},
     "output_type": "execute_result"
    }
   ],
   "source": [
    "df.sample(3)"
   ]
  },
  {
   "cell_type": "code",
   "execution_count": 44,
   "metadata": {},
   "outputs": [],
   "source": [
    "df.drop(['yr_of_estab'], axis=1, inplace=True)"
   ]
  },
  {
   "cell_type": "markdown",
   "metadata": {},
   "source": [
    "## 2. Type of Features"
   ]
  },
  {
   "cell_type": "markdown",
   "metadata": {},
   "source": [
    "### Numerical and Categorical Features"
   ]
  },
  {
   "cell_type": "code",
   "execution_count": 45,
   "metadata": {},
   "outputs": [
    {
     "name": "stdout",
     "output_type": "stream",
     "text": [
      "There are 3 Numerical Features: ['no_of_employees', 'prevailing_wage', 'company_age']\n",
      "There are 7 Numerical Features: ['continent', 'education_of_employee', 'has_job_experience', 'requires_job_training', 'region_of_employment', 'unit_of_wage', 'full_time_position']\n"
     ]
    }
   ],
   "source": [
    "cat_features = df.drop('case_status', axis=1).select_dtypes(include='O').columns.to_list()\n",
    "num_features = df.drop('case_status', axis=1).select_dtypes(exclude='O').columns.to_list()\n",
    "print(f\"There are {len(num_features)} Numerical Features: {num_features}\")\n",
    "print(f\"There are {len(cat_features)} Numerical Features: {cat_features}\")"
   ]
  },
  {
   "cell_type": "markdown",
   "metadata": {},
   "source": [
    "### Discrete and Continous Features"
   ]
  },
  {
   "cell_type": "code",
   "execution_count": 46,
   "metadata": {},
   "outputs": [
    {
     "name": "stdout",
     "output_type": "stream",
     "text": [
      "There are 0 Numerical Features: []\n",
      "There are 3 Numerical Features: ['no_of_employees', 'prevailing_wage', 'company_age']\n"
     ]
    }
   ],
   "source": [
    "discrete_num_features = [feature for feature in num_features if df[feature].nunique()<=25]\n",
    "continous_num_features = [feature for feature in num_features if feature not in discrete_num_features]\n",
    "print(f\"There are {len(discrete_num_features)} Numerical Features: {discrete_num_features}\")\n",
    "print(f\"There are {len(continous_num_features)} Numerical Features: {continous_num_features}\")"
   ]
  },
  {
   "cell_type": "markdown",
   "metadata": {},
   "source": [
    "## 3. Split X & y"
   ]
  },
  {
   "cell_type": "code",
   "execution_count": 47,
   "metadata": {},
   "outputs": [],
   "source": [
    "X = df.drop(['case_status'], axis=1)\n",
    "y = df['case_status']"
   ]
  },
  {
   "cell_type": "code",
   "execution_count": 48,
   "metadata": {},
   "outputs": [],
   "source": [
    "y = np.where(y=='Denied', 1, 0)"
   ]
  },
  {
   "cell_type": "code",
   "execution_count": 49,
   "metadata": {},
   "outputs": [
    {
     "data": {
      "text/plain": [
       "array([1, 0, 1, ..., 0, 0, 0])"
      ]
     },
     "execution_count": 49,
     "metadata": {},
     "output_type": "execute_result"
    }
   ],
   "source": [
    "y"
   ]
  },
  {
   "cell_type": "markdown",
   "metadata": {},
   "source": [
    "## 4. Feature Transformation"
   ]
  },
  {
   "cell_type": "code",
   "execution_count": 50,
   "metadata": {},
   "outputs": [
    {
     "data": {
      "image/png": "[encoded data removed]",
      "text/plain": [
       "<Figure size 1500x600 with 3 Axes>"
      ]
     },
     "metadata": {},
     "output_type": "display_data"
    }
   ],
   "source": [
    "plt.figure(figsize=(15,6))\n",
    "for i, col in enumerate(num_features):\n",
    "    plt.subplot(2, 2, i+1)\n",
    "    sns.histplot(x=X[col])\n",
    "    # sns.histplot(x=X[col], color='indianred')\n",
    "    plt.xlabel(col)\n",
    "    plt.tight_layout()"
   ]
  },
  {
   "cell_type": "code",
   "execution_count": 51,
   "metadata": {},
   "outputs": [
    {
     "data": {
      "text/plain": [
       "no_of_employees    12.265260\n",
       "prevailing_wage     0.755776\n",
       "company_age         2.037301\n",
       "dtype: float64"
      ]
     },
     "execution_count": 51,
     "metadata": {},
     "output_type": "execute_result"
    }
   ],
   "source": [
    "# check skewness\n",
    "X[continous_num_features].skew(axis=0, skipna=True)"
   ]
  },
  {
   "cell_type": "markdown",
   "metadata": {},
   "source": [
    "Observations\n",
    "- `no_of_employees` and `company_age` columns are heavily skewed\n",
    "- Requires outlier handling and then skewness treatment"
   ]
  },
  {
   "cell_type": "markdown",
   "metadata": {},
   "source": [
    "### Power Transformation"
   ]
  },
  {
   "cell_type": "code",
   "execution_count": 52,
   "metadata": {},
   "outputs": [
    {
     "data": {
      "text/html": [
       "<div>\n",
       "<style scoped>\n",
       "    .dataframe tbody tr th:only-of-type {\n",
       "        vertical-align: middle;\n",
       "    }\n",
       "\n",
       "    .dataframe tbody tr th {\n",
       "        vertical-align: top;\n",
       "    }\n",
       "\n",
       "    .dataframe thead th {\n",
       "        text-align: right;\n",
       "    }\n",
       "</style>\n",
       "<table border=\"1\" class=\"dataframe\">\n",
       "  <thead>\n",
       "    <tr style=\"text-align: right;\">\n",
       "      <th></th>\n",
       "      <th>no_of_employees</th>\n",
       "      <th>company_age</th>\n",
       "    </tr>\n",
       "  </thead>\n",
       "  <tbody>\n",
       "    <tr>\n",
       "      <th>0</th>\n",
       "      <td>1.517300</td>\n",
       "      <td>-0.952162</td>\n",
       "    </tr>\n",
       "    <tr>\n",
       "      <th>1</th>\n",
       "      <td>0.030912</td>\n",
       "      <td>-0.462942</td>\n",
       "    </tr>\n",
       "    <tr>\n",
       "      <th>2</th>\n",
       "      <td>2.885076</td>\n",
       "      <td>-1.075820</td>\n",
       "    </tr>\n",
       "    <tr>\n",
       "      <th>3</th>\n",
       "      <td>-1.343550</td>\n",
       "      <td>1.629178</td>\n",
       "    </tr>\n",
       "    <tr>\n",
       "      <th>4</th>\n",
       "      <td>-0.432287</td>\n",
       "      <td>-0.733953</td>\n",
       "    </tr>\n",
       "    <tr>\n",
       "      <th>...</th>\n",
       "      <td>...</td>\n",
       "      <td>...</td>\n",
       "    </tr>\n",
       "    <tr>\n",
       "      <th>25475</th>\n",
       "      <td>0.079917</td>\n",
       "      <td>-1.075820</td>\n",
       "    </tr>\n",
       "    <tr>\n",
       "      <th>25476</th>\n",
       "      <td>0.235747</td>\n",
       "      <td>-0.838640</td>\n",
       "    </tr>\n",
       "    <tr>\n",
       "      <th>25477</th>\n",
       "      <td>-0.413885</td>\n",
       "      <td>1.547445</td>\n",
       "    </tr>\n",
       "    <tr>\n",
       "      <th>25478</th>\n",
       "      <td>-0.111949</td>\n",
       "      <td>1.683834</td>\n",
       "    </tr>\n",
       "    <tr>\n",
       "      <th>25479</th>\n",
       "      <td>0.218742</td>\n",
       "      <td>1.022966</td>\n",
       "    </tr>\n",
       "  </tbody>\n",
       "</table>\n",
       "<p>25480 rows × 2 columns</p>\n",
       "</div>"
      ],
      "text/plain": [
       "       no_of_employees  company_age\n",
       "0             1.517300    -0.952162\n",
       "1             0.030912    -0.462942\n",
       "2             2.885076    -1.075820\n",
       "3            -1.343550     1.629178\n",
       "4            -0.432287    -0.733953\n",
       "...                ...          ...\n",
       "25475         0.079917    -1.075820\n",
       "25476         0.235747    -0.838640\n",
       "25477        -0.413885     1.547445\n",
       "25478        -0.111949     1.683834\n",
       "25479         0.218742     1.022966\n",
       "\n",
       "[25480 rows x 2 columns]"
      ]
     },
     "execution_count": 52,
     "metadata": {},
     "output_type": "execute_result"
    }
   ],
   "source": [
    "pt = PowerTransformer(method='yeo-johnson')\n",
    "transform_features = ['no_of_employees', 'company_age']\n",
    "X_copy = pt.fit_transform(X[transform_features])\n",
    "X_copy = pd.DataFrame(X_copy, columns=transform_features)\n",
    "X_copy"
   ]
  },
  {
   "cell_type": "code",
   "execution_count": 53,
   "metadata": {},
   "outputs": [
    {
     "data": {
      "image/png": "[encoded data removed]",
      "text/plain": [
       "<Figure size 1500x600 with 2 Axes>"
      ]
     },
     "metadata": {},
     "output_type": "display_data"
    }
   ],
   "source": [
    "plt.figure(figsize=(15,6))\n",
    "for i, col in enumerate(transform_features):\n",
    "    plt.subplot(2, 2, i+1)\n",
    "    sns.histplot(x=X_copy[col])\n",
    "    # sns.histplot(x=X[col], color='indianred')\n",
    "    plt.xlabel(col)\n",
    "    plt.tight_layout()"
   ]
  },
  {
   "cell_type": "code",
   "execution_count": 54,
   "metadata": {},
   "outputs": [
    {
     "data": {
      "text/plain": [
       "no_of_employees    0.399339\n",
       "company_age        0.103264\n",
       "dtype: float64"
      ]
     },
     "execution_count": 54,
     "metadata": {},
     "output_type": "execute_result"
    }
   ],
   "source": [
    "# check skewness\n",
    "X_copy.skew(axis=0, skipna=True)"
   ]
  },
  {
   "cell_type": "markdown",
   "metadata": {},
   "source": [
    "## 5. Feature Encoding and Scaling"
   ]
  },
  {
   "cell_type": "markdown",
   "metadata": {},
   "source": [
    "One Hot Encoding for Columns which had lesser unique values and not ordinal\n",
    "- One hot encoding is a process by which categorical variables are converted into a form that could be provided to ML algorithms to do a better job in prediction.\n",
    "\n",
    "Ordinal Encoding for Columns which has many unique categories\n",
    "- Ordinal encoding is used here as label encoder is supported for column transformer.\n",
    "- Ordinal encoding is used for Ordinal Variable. Variable comprises a finite set of discrete values with a ranked ordering between values.\n",
    "\n",
    "Standard Scaler\n",
    "- Standardize features by removing the mean and scaling to unit variance.\n",
    "\n",
    "Power Transformer\n",
    "- Power transforms are a technique for transforming numerical input or output variables to have a Gaussian or more-Gaussian-like probability distribution."
   ]
  },
  {
   "cell_type": "code",
   "execution_count": 55,
   "metadata": {},
   "outputs": [
    {
     "name": "stdout",
     "output_type": "stream",
     "text": [
      "continent : 6\n",
      "education_of_employee : 4\n",
      "has_job_experience : 2\n",
      "requires_job_training : 2\n",
      "region_of_employment : 5\n",
      "unit_of_wage : 4\n",
      "full_time_position : 2\n"
     ]
    }
   ],
   "source": [
    "# categorical features\n",
    "for feature in cat_features:\n",
    "    print(feature, ':', df[feature].nunique())"
   ]
  },
  {
   "cell_type": "code",
   "execution_count": 56,
   "metadata": {},
   "outputs": [
    {
     "data": {
      "text/html": [
       "<div>\n",
       "<style scoped>\n",
       "    .dataframe tbody tr th:only-of-type {\n",
       "        vertical-align: middle;\n",
       "    }\n",
       "\n",
       "    .dataframe tbody tr th {\n",
       "        vertical-align: top;\n",
       "    }\n",
       "\n",
       "    .dataframe thead th {\n",
       "        text-align: right;\n",
       "    }\n",
       "</style>\n",
       "<table border=\"1\" class=\"dataframe\">\n",
       "  <thead>\n",
       "    <tr style=\"text-align: right;\">\n",
       "      <th></th>\n",
       "      <th>continent</th>\n",
       "      <th>education_of_employee</th>\n",
       "      <th>has_job_experience</th>\n",
       "      <th>requires_job_training</th>\n",
       "      <th>region_of_employment</th>\n",
       "      <th>unit_of_wage</th>\n",
       "      <th>full_time_position</th>\n",
       "    </tr>\n",
       "  </thead>\n",
       "  <tbody>\n",
       "    <tr>\n",
       "      <th>9273</th>\n",
       "      <td>North America</td>\n",
       "      <td>Master's</td>\n",
       "      <td>N</td>\n",
       "      <td>N</td>\n",
       "      <td>Northeast</td>\n",
       "      <td>Year</td>\n",
       "      <td>N</td>\n",
       "    </tr>\n",
       "    <tr>\n",
       "      <th>11199</th>\n",
       "      <td>Asia</td>\n",
       "      <td>Master's</td>\n",
       "      <td>N</td>\n",
       "      <td>N</td>\n",
       "      <td>South</td>\n",
       "      <td>Year</td>\n",
       "      <td>Y</td>\n",
       "    </tr>\n",
       "    <tr>\n",
       "      <th>261</th>\n",
       "      <td>Asia</td>\n",
       "      <td>Master's</td>\n",
       "      <td>N</td>\n",
       "      <td>Y</td>\n",
       "      <td>Northeast</td>\n",
       "      <td>Year</td>\n",
       "      <td>Y</td>\n",
       "    </tr>\n",
       "    <tr>\n",
       "      <th>471</th>\n",
       "      <td>Asia</td>\n",
       "      <td>Master's</td>\n",
       "      <td>N</td>\n",
       "      <td>N</td>\n",
       "      <td>West</td>\n",
       "      <td>Year</td>\n",
       "      <td>N</td>\n",
       "    </tr>\n",
       "    <tr>\n",
       "      <th>19098</th>\n",
       "      <td>Europe</td>\n",
       "      <td>Bachelor's</td>\n",
       "      <td>Y</td>\n",
       "      <td>N</td>\n",
       "      <td>West</td>\n",
       "      <td>Year</td>\n",
       "      <td>Y</td>\n",
       "    </tr>\n",
       "  </tbody>\n",
       "</table>\n",
       "</div>"
      ],
      "text/plain": [
       "           continent education_of_employee has_job_experience  \\\n",
       "9273   North America              Master's                  N   \n",
       "11199           Asia              Master's                  N   \n",
       "261             Asia              Master's                  N   \n",
       "471             Asia              Master's                  N   \n",
       "19098         Europe            Bachelor's                  Y   \n",
       "\n",
       "      requires_job_training region_of_employment unit_of_wage  \\\n",
       "9273                      N            Northeast         Year   \n",
       "11199                     N                South         Year   \n",
       "261                       Y            Northeast         Year   \n",
       "471                       N                 West         Year   \n",
       "19098                     N                 West         Year   \n",
       "\n",
       "      full_time_position  \n",
       "9273                   N  \n",
       "11199                  Y  \n",
       "261                    Y  \n",
       "471                    N  \n",
       "19098                  Y  "
      ]
     },
     "execution_count": 56,
     "metadata": {},
     "output_type": "execute_result"
    }
   ],
   "source": [
    "df[cat_features].sample(5)"
   ]
  },
  {
   "cell_type": "code",
   "execution_count": 57,
   "metadata": {},
   "outputs": [],
   "source": [
    "or_columns = ['has_job_experience', 'requires_job_training', 'full_time_position', 'education_of_employee']     # Ordinal\n",
    "oh_columns = ['continent', 'unit_of_wage', 'region_of_employment']  # One Hot Encoder\n",
    "transform_columns = ['no_of_employees', 'company_age']\n",
    "\n",
    "numeric_transformer = StandardScaler()\n",
    "oh_transformer = OneHotEncoder()\n",
    "or_transformer = OrdinalEncoder()\n",
    "\n",
    "transform_pipe = Pipeline(steps=[\n",
    "    ('transformer', PowerTransformer(method='yeo-johnson'))\n",
    "])\n",
    "\n",
    "preprocessor = ColumnTransformer(\n",
    "    [\n",
    "        ('OneHotEncoder', oh_transformer, oh_columns),\n",
    "        ('OrdinalEncoder', or_transformer, or_columns),\n",
    "        (\"Transformer\", transform_pipe, transform_columns),\n",
    "        (\"StandardScaler\", numeric_transformer, num_features)\n",
    "    ]\n",
    ")"
   ]
  },
  {
   "cell_type": "code",
   "execution_count": 58,
   "metadata": {},
   "outputs": [
    {
     "data": {
      "text/html": [
       "<div>\n",
       "<style scoped>\n",
       "    .dataframe tbody tr th:only-of-type {\n",
       "        vertical-align: middle;\n",
       "    }\n",
       "\n",
       "    .dataframe tbody tr th {\n",
       "        vertical-align: top;\n",
       "    }\n",
       "\n",
       "    .dataframe thead th {\n",
       "        text-align: right;\n",
       "    }\n",
       "</style>\n",
       "<table border=\"1\" class=\"dataframe\">\n",
       "  <thead>\n",
       "    <tr style=\"text-align: right;\">\n",
       "      <th></th>\n",
       "      <th>continent</th>\n",
       "      <th>education_of_employee</th>\n",
       "      <th>has_job_experience</th>\n",
       "      <th>requires_job_training</th>\n",
       "      <th>no_of_employees</th>\n",
       "      <th>region_of_employment</th>\n",
       "      <th>prevailing_wage</th>\n",
       "      <th>unit_of_wage</th>\n",
       "      <th>full_time_position</th>\n",
       "      <th>company_age</th>\n",
       "    </tr>\n",
       "  </thead>\n",
       "  <tbody>\n",
       "    <tr>\n",
       "      <th>0</th>\n",
       "      <td>Asia</td>\n",
       "      <td>High School</td>\n",
       "      <td>N</td>\n",
       "      <td>N</td>\n",
       "      <td>14513</td>\n",
       "      <td>West</td>\n",
       "      <td>592.2029</td>\n",
       "      <td>Hour</td>\n",
       "      <td>Y</td>\n",
       "      <td>17</td>\n",
       "    </tr>\n",
       "    <tr>\n",
       "      <th>1</th>\n",
       "      <td>Asia</td>\n",
       "      <td>Master's</td>\n",
       "      <td>Y</td>\n",
       "      <td>N</td>\n",
       "      <td>2412</td>\n",
       "      <td>Northeast</td>\n",
       "      <td>83425.6500</td>\n",
       "      <td>Year</td>\n",
       "      <td>Y</td>\n",
       "      <td>22</td>\n",
       "    </tr>\n",
       "    <tr>\n",
       "      <th>2</th>\n",
       "      <td>Asia</td>\n",
       "      <td>Bachelor's</td>\n",
       "      <td>N</td>\n",
       "      <td>Y</td>\n",
       "      <td>44444</td>\n",
       "      <td>West</td>\n",
       "      <td>122996.8600</td>\n",
       "      <td>Year</td>\n",
       "      <td>Y</td>\n",
       "      <td>16</td>\n",
       "    </tr>\n",
       "    <tr>\n",
       "      <th>3</th>\n",
       "      <td>Asia</td>\n",
       "      <td>Bachelor's</td>\n",
       "      <td>N</td>\n",
       "      <td>N</td>\n",
       "      <td>98</td>\n",
       "      <td>West</td>\n",
       "      <td>83434.0300</td>\n",
       "      <td>Year</td>\n",
       "      <td>Y</td>\n",
       "      <td>127</td>\n",
       "    </tr>\n",
       "    <tr>\n",
       "      <th>4</th>\n",
       "      <td>Africa</td>\n",
       "      <td>Master's</td>\n",
       "      <td>Y</td>\n",
       "      <td>N</td>\n",
       "      <td>1082</td>\n",
       "      <td>South</td>\n",
       "      <td>149907.3900</td>\n",
       "      <td>Year</td>\n",
       "      <td>Y</td>\n",
       "      <td>19</td>\n",
       "    </tr>\n",
       "    <tr>\n",
       "      <th>...</th>\n",
       "      <td>...</td>\n",
       "      <td>...</td>\n",
       "      <td>...</td>\n",
       "      <td>...</td>\n",
       "      <td>...</td>\n",
       "      <td>...</td>\n",
       "      <td>...</td>\n",
       "      <td>...</td>\n",
       "      <td>...</td>\n",
       "      <td>...</td>\n",
       "    </tr>\n",
       "    <tr>\n",
       "      <th>25475</th>\n",
       "      <td>Asia</td>\n",
       "      <td>Bachelor's</td>\n",
       "      <td>Y</td>\n",
       "      <td>Y</td>\n",
       "      <td>2601</td>\n",
       "      <td>South</td>\n",
       "      <td>77092.5700</td>\n",
       "      <td>Year</td>\n",
       "      <td>Y</td>\n",
       "      <td>16</td>\n",
       "    </tr>\n",
       "    <tr>\n",
       "      <th>25476</th>\n",
       "      <td>Asia</td>\n",
       "      <td>High School</td>\n",
       "      <td>Y</td>\n",
       "      <td>N</td>\n",
       "      <td>3274</td>\n",
       "      <td>Northeast</td>\n",
       "      <td>279174.7900</td>\n",
       "      <td>Year</td>\n",
       "      <td>Y</td>\n",
       "      <td>18</td>\n",
       "    </tr>\n",
       "    <tr>\n",
       "      <th>25477</th>\n",
       "      <td>Asia</td>\n",
       "      <td>Master's</td>\n",
       "      <td>Y</td>\n",
       "      <td>N</td>\n",
       "      <td>1121</td>\n",
       "      <td>South</td>\n",
       "      <td>146298.8500</td>\n",
       "      <td>Year</td>\n",
       "      <td>N</td>\n",
       "      <td>114</td>\n",
       "    </tr>\n",
       "    <tr>\n",
       "      <th>25478</th>\n",
       "      <td>Asia</td>\n",
       "      <td>Master's</td>\n",
       "      <td>Y</td>\n",
       "      <td>Y</td>\n",
       "      <td>1918</td>\n",
       "      <td>West</td>\n",
       "      <td>86154.7700</td>\n",
       "      <td>Year</td>\n",
       "      <td>Y</td>\n",
       "      <td>137</td>\n",
       "    </tr>\n",
       "    <tr>\n",
       "      <th>25479</th>\n",
       "      <td>Asia</td>\n",
       "      <td>Bachelor's</td>\n",
       "      <td>Y</td>\n",
       "      <td>N</td>\n",
       "      <td>3195</td>\n",
       "      <td>Midwest</td>\n",
       "      <td>70876.9100</td>\n",
       "      <td>Year</td>\n",
       "      <td>Y</td>\n",
       "      <td>64</td>\n",
       "    </tr>\n",
       "  </tbody>\n",
       "</table>\n",
       "<p>25480 rows × 10 columns</p>\n",
       "</div>"
      ],
      "text/plain": [
       "      continent education_of_employee has_job_experience  \\\n",
       "0          Asia           High School                  N   \n",
       "1          Asia              Master's                  Y   \n",
       "2          Asia            Bachelor's                  N   \n",
       "3          Asia            Bachelor's                  N   \n",
       "4        Africa              Master's                  Y   \n",
       "...         ...                   ...                ...   \n",
       "25475      Asia            Bachelor's                  Y   \n",
       "25476      Asia           High School                  Y   \n",
       "25477      Asia              Master's                  Y   \n",
       "25478      Asia              Master's                  Y   \n",
       "25479      Asia            Bachelor's                  Y   \n",
       "\n",
       "      requires_job_training  no_of_employees region_of_employment  \\\n",
       "0                         N            14513                 West   \n",
       "1                         N             2412            Northeast   \n",
       "2                         Y            44444                 West   \n",
       "3                         N               98                 West   \n",
       "4                         N             1082                South   \n",
       "...                     ...              ...                  ...   \n",
       "25475                     Y             2601                South   \n",
       "25476                     N             3274            Northeast   \n",
       "25477                     N             1121                South   \n",
       "25478                     Y             1918                 West   \n",
       "25479                     N             3195              Midwest   \n",
       "\n",
       "       prevailing_wage unit_of_wage full_time_position  company_age  \n",
       "0             592.2029         Hour                  Y           17  \n",
       "1           83425.6500         Year                  Y           22  \n",
       "2          122996.8600         Year                  Y           16  \n",
       "3           83434.0300         Year                  Y          127  \n",
       "4          149907.3900         Year                  Y           19  \n",
       "...                ...          ...                ...          ...  \n",
       "25475       77092.5700         Year                  Y           16  \n",
       "25476      279174.7900         Year                  Y           18  \n",
       "25477      146298.8500         Year                  N          114  \n",
       "25478       86154.7700         Year                  Y          137  \n",
       "25479       70876.9100         Year                  Y           64  \n",
       "\n",
       "[25480 rows x 10 columns]"
      ]
     },
     "execution_count": 58,
     "metadata": {},
     "output_type": "execute_result"
    }
   ],
   "source": [
    "X"
   ]
  },
  {
   "cell_type": "code",
   "execution_count": 59,
   "metadata": {},
   "outputs": [
    {
     "data": {
      "text/plain": [
       "array([[ 0.        ,  1.        ,  0.        , ...,  0.38666657,\n",
       "        -1.39853722, -0.65122993],\n",
       "       [ 0.        ,  1.        ,  0.        , ..., -0.14228155,\n",
       "         0.1698353 , -0.53321103],\n",
       "       [ 0.        ,  1.        ,  0.        , ...,  1.69498375,\n",
       "         0.91907852, -0.6748337 ],\n",
       "       ...,\n",
       "       [ 0.        ,  1.        ,  0.        , ..., -0.19871259,\n",
       "         1.36027953,  1.63833662],\n",
       "       [ 0.        ,  1.        ,  0.        , ..., -0.16387483,\n",
       "         0.22150859,  2.18122353],\n",
       "       [ 0.        ,  1.        ,  0.        , ..., -0.10805575,\n",
       "        -0.06776315,  0.45814768]])"
      ]
     },
     "execution_count": 59,
     "metadata": {},
     "output_type": "execute_result"
    }
   ],
   "source": [
    "X = preprocessor.fit_transform(X)\n",
    "X"
   ]
  },
  {
   "cell_type": "markdown",
   "metadata": {},
   "source": [
    "# CLASSIFICATION"
   ]
  },
  {
   "cell_type": "markdown",
   "metadata": {},
   "source": [
    "## 1. Train Test Split & Resampling"
   ]
  },
  {
   "cell_type": "code",
   "execution_count": 164,
   "metadata": {},
   "outputs": [],
   "source": [
    "from imblearn.over_sampling import SMOTE\n",
    "from sklearn.model_selection import train_test_split\n",
    "\n",
    "# Splitting data into training and test sets (optional step)\n",
    "X_train, X_test, y_train, y_test = train_test_split(X, y, test_size=0.2, random_state=42)\n",
    "\n",
    "# Define the SMOTE object\n",
    "smote = SMOTE(random_state=42)\n",
    "\n",
    "# Apply SMOTE to the training data\n",
    "X_resampled, y_resampled = smote.fit_resample(X_train, y_train)\n",
    "\n",
    "# X_resampled and y_resampled are the new datasets after applying SMOTE\n"
   ]
  },
  {
   "cell_type": "code",
   "execution_count": 172,
   "metadata": {},
   "outputs": [
    {
     "data": {
      "text/plain": [
       "((20384, 24), (27234, 24), (20384,), (27234,))"
      ]
     },
     "execution_count": 172,
     "metadata": {},
     "output_type": "execute_result"
    }
   ],
   "source": [
    "X_train.shape, X_resampled.shape, y_train.shape, y_resampled.shape"
   ]
  },
  {
   "cell_type": "markdown",
   "metadata": {},
   "source": [
    "## ARCHIVE"
   ]
  },
  {
   "cell_type": "markdown",
   "metadata": {},
   "source": [
    "### 1. Resampling"
   ]
  },
  {
   "cell_type": "code",
   "execution_count": 211,
   "metadata": {},
   "outputs": [],
   "source": [
    "# resampling minority class\n",
    "smt = SMOTEENN(random_state=42, sampling_strategy='minority')\n",
    "# fit model to generate data\n",
    "X_res, y_res = smt.fit_resample(X, y)"
   ]
  },
  {
   "cell_type": "code",
   "execution_count": 204,
   "metadata": {},
   "outputs": [
    {
     "data": {
      "text/plain": [
       "((25480, 24), (17048, 24), (25480,), (17048,))"
      ]
     },
     "execution_count": 204,
     "metadata": {},
     "output_type": "execute_result"
    }
   ],
   "source": [
    "X.shape, X_res.shape, y.shape, y_res.shape"
   ]
  },
  {
   "cell_type": "markdown",
   "metadata": {},
   "source": [
    "### 2. Train Test Split"
   ]
  },
  {
   "cell_type": "code",
   "execution_count": 214,
   "metadata": {},
   "outputs": [
    {
     "data": {
      "text/plain": [
       "((13638, 24), (3410, 24), (13638,), (3410,))"
      ]
     },
     "execution_count": 214,
     "metadata": {},
     "output_type": "execute_result"
    }
   ],
   "source": [
    "# split data into train and test\n",
    "X_train, X_test, y_train, y_test = train_test_split(X_res, y_res, test_size=0.2, random_state=42)\n",
    "X_train.shape, X_test.shape, y_train.shape, y_test.shape"
   ]
  },
  {
   "cell_type": "code",
   "execution_count": 213,
   "metadata": {},
   "outputs": [
    {
     "data": {
      "text/plain": [
       "array([0, 0, 1, ..., 0, 0, 1])"
      ]
     },
     "execution_count": 213,
     "metadata": {},
     "output_type": "execute_result"
    }
   ],
   "source": [
    "X_test"
   ]
  },
  {
   "cell_type": "markdown",
   "metadata": {},
   "source": [
    "## 3. Model Selection"
   ]
  },
  {
   "cell_type": "code",
   "execution_count": 70,
   "metadata": {},
   "outputs": [],
   "source": [
    "def evaluate_classifier(true, predicted):\n",
    "    acc = accuracy_score(true, predicted)   # calculate accuracy score\n",
    "    f1 = f1_score(true, predicted)          # calculate f1-score\n",
    "    precision = precision_score(true, predicted)    # calculate precision score\n",
    "    recall = recall_score(true, predicted)  # calculate recall score\n",
    "    roc_auc = roc_auc_score(true, predicted)    # calculate roc auc\n",
    "\n",
    "    return acc, f1, precision, recall, roc_auc"
   ]
  },
  {
   "cell_type": "code",
   "execution_count": 68,
   "metadata": {},
   "outputs": [],
   "source": [
    "models = {\n",
    "    \"RandomForestClassifier\": RandomForestClassifier(),\n",
    "    \"DecisionTreeClassifier\": DecisionTreeClassifier(),\n",
    "    \"GradientBoostingClassifier\": GradientBoostingClassifier(),\n",
    "    \"LogisticRegression\": LogisticRegression(),\n",
    "    \"KNeighborsClassifier\": KNeighborsClassifier(),\n",
    "    \"XGBClassifier\": XGBClassifier(),\n",
    "    \"CatBoostClassifier\": CatBoostClassifier(verbose=False),\n",
    "    \"SupportVectorClassifier\": SVC(),\n",
    "    \"AdaBoostClassifier\": AdaBoostClassifier()\n",
    "}"
   ]
  },
  {
   "cell_type": "code",
   "execution_count": 75,
   "metadata": {},
   "outputs": [
    {
     "data": {
      "text/plain": [
       "((13638, 24), (3410, 24))"
      ]
     },
     "execution_count": 75,
     "metadata": {},
     "output_type": "execute_result"
    }
   ],
   "source": [
    "X_train.shape, y_train.shape"
   ]
  },
  {
   "cell_type": "code",
   "execution_count": 102,
   "metadata": {},
   "outputs": [],
   "source": [
    "# create a function that evaluates models and returns a report\n",
    "def evaluate_classifier_models(X, y, models:dict):\n",
    "    \"\"\"\n",
    "    This function takes in X and y datasets and a dictionary of classifier models as input.\n",
    "    It splits the data into train and test.\n",
    "    Iterates through the given models dictionary and evaluates the metrics.\n",
    "\n",
    "    Returns: DataFrame which contains a report of all models metrics with cost.\n",
    "    \"\"\"\n",
    "\n",
    "    # split data into train and test\n",
    "    X_train, X_test, y_train, y_test = train_test_split(X, y, test_size=0.2, random_state=42)\n",
    "\n",
    "\n",
    "    models_list = []\n",
    "    accuracy_list = []\n",
    "    auc = []\n",
    "    f1 = []\n",
    "    precision = []\n",
    "    recall = []\n",
    "\n",
    "    for i in range(len(list(models))):\n",
    "        # model training\n",
    "        model = list(models.values())[i]    # select model\n",
    "        model.fit(X_train, y_train)         # train model\n",
    "\n",
    "        # make predictions\n",
    "        y_train_pred = model.predict(X_train)   # predict on train\n",
    "        y_test_pred = model.predict(X_test)     # predict on test\n",
    "\n",
    "\n",
    "        # train set performance\n",
    "        model_train_accuracy, model_train_f1, model_train_precision, model_train_recall, model_train_rocauc_score = evaluate_classifier(y_train, y_train_pred)\n",
    "\n",
    "        # test set performance\n",
    "        model_test_accuracy, model_test_f1, model_test_precision, model_test_recall, model_test_rocauc_score = evaluate_classifier(y_test, y_test_pred)\n",
    "       \n",
    "        # result\n",
    "        print(\"MODEL:\", list(models.keys())[i])\n",
    "        models_list.append(list(models.keys())[i])\n",
    "\n",
    "        print(\"> Model Performance for Train Set:\")\n",
    "        print(\">> Accuracy: {:.4f}\".format(model_train_accuracy))\n",
    "        print(\">> F1 Score: {:.4f}\".format(model_train_f1))\n",
    "        print(\">> Precision: {:.4f}\".format(model_train_precision))\n",
    "        print(\">> Recall: {:.4f}\".format(model_train_recall))\n",
    "        print(\">> ROC AUC Score: {:.4f}\".format(model_train_rocauc_score))\n",
    "        print(\"---\")\n",
    "\n",
    "        print(\"> Model Performance for Test Set:\")\n",
    "        print(\">> Accuracy: {:.4f}\".format(model_test_accuracy))\n",
    "        accuracy_list.append(model_test_accuracy)\n",
    "        print(\">> F1 Score: {:.4f}\".format(model_test_f1))\n",
    "        f1.append(model_test_f1)\n",
    "        print(\">> Precision: {:.4f}\".format(model_test_precision))\n",
    "        precision.append(model_test_precision)\n",
    "        print(\">> Recall: {:.4f}\".format(model_test_recall))\n",
    "        recall.append(model_test_recall)\n",
    "        print(\">> ROC AUC Score: {:.4f}\".format(model_test_rocauc_score))\n",
    "        auc.append(model_test_rocauc_score)\n",
    "        print(\"-\"*35)\n",
    "\n",
    "    report = pd.DataFrame(list(zip(models_list, accuracy_list, precision, recall, f1, auc)), columns=['Model Name', 'Accuracy', 'Precision', 'Recall', 'F1-Score', 'AUC']).sort_values(by=['Accuracy'], ascending=False)\n",
    "\n",
    "    return report"
   ]
  },
  {
   "cell_type": "markdown",
   "metadata": {},
   "source": [
    "### Run Model Selection"
   ]
  },
  {
   "cell_type": "code",
   "execution_count": 189,
   "metadata": {},
   "outputs": [
    {
     "name": "stdout",
     "output_type": "stream",
     "text": [
      "MODEL: RandomForestClassifier\n",
      "> Model Performance for Train Set:\n",
      ">> Accuracy: 1.0000\n",
      ">> F1 Score: 1.0000\n",
      ">> Precision: 1.0000\n",
      ">> Recall: 1.0000\n",
      ">> ROC AUC Score: 1.0000\n",
      "---\n",
      "> Model Performance for Test Set:\n",
      ">> Accuracy: 0.9557\n",
      ">> F1 Score: 0.9593\n",
      ">> Precision: 0.9555\n",
      ">> Recall: 0.9632\n",
      ">> ROC AUC Score: 0.9550\n",
      "-----------------------------------\n",
      "MODEL: DecisionTreeClassifier\n",
      "> Model Performance for Train Set:\n",
      ">> Accuracy: 1.0000\n",
      ">> F1 Score: 1.0000\n",
      ">> Precision: 1.0000\n",
      ">> Recall: 1.0000\n",
      ">> ROC AUC Score: 1.0000\n",
      "---\n",
      "> Model Performance for Test Set:\n",
      ">> Accuracy: 0.9317\n",
      ">> F1 Score: 0.9372\n",
      ">> Precision: 0.9335\n",
      ">> Recall: 0.9410\n",
      ">> ROC AUC Score: 0.9308\n",
      "-----------------------------------\n",
      "MODEL: GradientBoostingClassifier\n",
      "> Model Performance for Train Set:\n",
      ">> Accuracy: 0.8822\n",
      ">> F1 Score: 0.8903\n",
      ">> Precision: 0.8945\n",
      ">> Recall: 0.8862\n",
      ">> ROC AUC Score: 0.8819\n",
      "---\n",
      "> Model Performance for Test Set:\n",
      ">> Accuracy: 0.8956\n",
      ">> F1 Score: 0.9031\n",
      ">> Precision: 0.9095\n",
      ">> Recall: 0.8967\n",
      ">> ROC AUC Score: 0.8955\n",
      "-----------------------------------\n",
      "MODEL: LogisticRegression\n",
      "> Model Performance for Train Set:\n",
      ">> Accuracy: 0.7346\n",
      ">> F1 Score: 0.7498\n",
      ">> Precision: 0.7624\n",
      ">> Recall: 0.7377\n",
      ">> ROC AUC Score: 0.7343\n",
      "---\n",
      "> Model Performance for Test Set:\n",
      ">> Accuracy: 0.7449\n",
      ">> F1 Score: 0.7590\n",
      ">> Precision: 0.7780\n",
      ">> Recall: 0.7409\n",
      ">> ROC AUC Score: 0.7452\n",
      "-----------------------------------\n",
      "MODEL: KNeighborsClassifier\n",
      "> Model Performance for Train Set:\n",
      ">> Accuracy: 0.9636\n",
      ">> F1 Score: 0.9667\n",
      ">> Precision: 0.9553\n",
      ">> Recall: 0.9784\n",
      ">> ROC AUC Score: 0.9624\n",
      "---\n",
      "> Model Performance for Test Set:\n",
      ">> Accuracy: 0.9402\n",
      ">> F1 Score: 0.9457\n",
      ">> Precision: 0.9318\n",
      ">> Recall: 0.9600\n",
      ">> ROC AUC Score: 0.9383\n",
      "-----------------------------------\n",
      "MODEL: XGBClassifier\n",
      "> Model Performance for Train Set:\n",
      ">> Accuracy: 0.9809\n",
      ">> F1 Score: 0.9823\n",
      ">> Precision: 0.9825\n",
      ">> Recall: 0.9821\n",
      ">> ROC AUC Score: 0.9808\n",
      "---\n",
      "> Model Performance for Test Set:\n",
      ">> Accuracy: 0.9352\n",
      ">> F1 Score: 0.9400\n",
      ">> Precision: 0.9443\n",
      ">> Recall: 0.9356\n",
      ">> ROC AUC Score: 0.9351\n",
      "-----------------------------------\n",
      "MODEL: CatBoostClassifier\n",
      "> Model Performance for Train Set:\n",
      ">> Accuracy: 0.9527\n",
      ">> F1 Score: 0.9559\n",
      ">> Precision: 0.9614\n",
      ">> Recall: 0.9505\n",
      ">> ROC AUC Score: 0.9529\n",
      "---\n",
      "> Model Performance for Test Set:\n",
      ">> Accuracy: 0.9296\n",
      ">> F1 Score: 0.9342\n",
      ">> Precision: 0.9472\n",
      ">> Recall: 0.9216\n",
      ">> ROC AUC Score: 0.9304\n",
      "-----------------------------------\n",
      "MODEL: SupportVectorClassifier\n",
      "> Model Performance for Train Set:\n",
      ">> Accuracy: 0.8716\n",
      ">> F1 Score: 0.8808\n",
      ">> Precision: 0.8818\n",
      ">> Recall: 0.8798\n",
      ">> ROC AUC Score: 0.8709\n",
      "---\n",
      "> Model Performance for Test Set:\n",
      ">> Accuracy: 0.8701\n",
      ">> F1 Score: 0.8802\n",
      ">> Precision: 0.8800\n",
      ">> Recall: 0.8805\n",
      ">> ROC AUC Score: 0.8691\n",
      "-----------------------------------\n",
      "MODEL: AdaBoostClassifier\n",
      "> Model Performance for Train Set:\n",
      ">> Accuracy: 0.8539\n",
      ">> F1 Score: 0.8636\n",
      ">> Precision: 0.8696\n",
      ">> Recall: 0.8576\n",
      ">> ROC AUC Score: 0.8535\n",
      "---\n",
      "> Model Performance for Test Set:\n",
      ">> Accuracy: 0.8683\n",
      ">> F1 Score: 0.8774\n",
      ">> Precision: 0.8863\n",
      ">> Recall: 0.8686\n",
      ">> ROC AUC Score: 0.8683\n",
      "-----------------------------------\n"
     ]
    }
   ],
   "source": [
    "base_model_report = evaluate_classifier_models(X=X_res, y=y_res, models=models)"
   ]
  },
  {
   "cell_type": "code",
   "execution_count": 191,
   "metadata": {},
   "outputs": [
    {
     "data": {
      "text/html": [
       "<div>\n",
       "<style scoped>\n",
       "    .dataframe tbody tr th:only-of-type {\n",
       "        vertical-align: middle;\n",
       "    }\n",
       "\n",
       "    .dataframe tbody tr th {\n",
       "        vertical-align: top;\n",
       "    }\n",
       "\n",
       "    .dataframe thead th {\n",
       "        text-align: right;\n",
       "    }\n",
       "</style>\n",
       "<table border=\"1\" class=\"dataframe\">\n",
       "  <thead>\n",
       "    <tr style=\"text-align: right;\">\n",
       "      <th></th>\n",
       "      <th>Model Name</th>\n",
       "      <th>Accuracy</th>\n",
       "      <th>Precision</th>\n",
       "      <th>Recall</th>\n",
       "      <th>F1-Score</th>\n",
       "      <th>AUC</th>\n",
       "    </tr>\n",
       "  </thead>\n",
       "  <tbody>\n",
       "    <tr>\n",
       "      <th>0</th>\n",
       "      <td>RandomForestClassifier</td>\n",
       "      <td>0.955718</td>\n",
       "      <td>0.955472</td>\n",
       "      <td>0.963223</td>\n",
       "      <td>0.959332</td>\n",
       "      <td>0.955026</td>\n",
       "    </tr>\n",
       "    <tr>\n",
       "      <th>4</th>\n",
       "      <td>KNeighborsClassifier</td>\n",
       "      <td>0.940176</td>\n",
       "      <td>0.931759</td>\n",
       "      <td>0.959978</td>\n",
       "      <td>0.945658</td>\n",
       "      <td>0.938349</td>\n",
       "    </tr>\n",
       "    <tr>\n",
       "      <th>5</th>\n",
       "      <td>XGBClassifier</td>\n",
       "      <td>0.935191</td>\n",
       "      <td>0.944323</td>\n",
       "      <td>0.935641</td>\n",
       "      <td>0.939962</td>\n",
       "      <td>0.935149</td>\n",
       "    </tr>\n",
       "    <tr>\n",
       "      <th>1</th>\n",
       "      <td>DecisionTreeClassifier</td>\n",
       "      <td>0.931672</td>\n",
       "      <td>0.933476</td>\n",
       "      <td>0.941049</td>\n",
       "      <td>0.937248</td>\n",
       "      <td>0.930806</td>\n",
       "    </tr>\n",
       "    <tr>\n",
       "      <th>6</th>\n",
       "      <td>CatBoostClassifier</td>\n",
       "      <td>0.929619</td>\n",
       "      <td>0.947193</td>\n",
       "      <td>0.921579</td>\n",
       "      <td>0.934211</td>\n",
       "      <td>0.930360</td>\n",
       "    </tr>\n",
       "    <tr>\n",
       "      <th>2</th>\n",
       "      <td>GradientBoostingClassifier</td>\n",
       "      <td>0.895601</td>\n",
       "      <td>0.909490</td>\n",
       "      <td>0.896701</td>\n",
       "      <td>0.903050</td>\n",
       "      <td>0.895500</td>\n",
       "    </tr>\n",
       "    <tr>\n",
       "      <th>7</th>\n",
       "      <td>SupportVectorClassifier</td>\n",
       "      <td>0.870088</td>\n",
       "      <td>0.880000</td>\n",
       "      <td>0.880476</td>\n",
       "      <td>0.880238</td>\n",
       "      <td>0.869130</td>\n",
       "    </tr>\n",
       "    <tr>\n",
       "      <th>8</th>\n",
       "      <td>AdaBoostClassifier</td>\n",
       "      <td>0.868328</td>\n",
       "      <td>0.886313</td>\n",
       "      <td>0.868578</td>\n",
       "      <td>0.877356</td>\n",
       "      <td>0.868305</td>\n",
       "    </tr>\n",
       "    <tr>\n",
       "      <th>3</th>\n",
       "      <td>LogisticRegression</td>\n",
       "      <td>0.744868</td>\n",
       "      <td>0.777967</td>\n",
       "      <td>0.740941</td>\n",
       "      <td>0.759003</td>\n",
       "      <td>0.745230</td>\n",
       "    </tr>\n",
       "  </tbody>\n",
       "</table>\n",
       "</div>"
      ],
      "text/plain": [
       "                   Model Name  Accuracy  Precision    Recall  F1-Score  \\\n",
       "0      RandomForestClassifier  0.955718   0.955472  0.963223  0.959332   \n",
       "4        KNeighborsClassifier  0.940176   0.931759  0.959978  0.945658   \n",
       "5               XGBClassifier  0.935191   0.944323  0.935641  0.939962   \n",
       "1      DecisionTreeClassifier  0.931672   0.933476  0.941049  0.937248   \n",
       "6          CatBoostClassifier  0.929619   0.947193  0.921579  0.934211   \n",
       "2  GradientBoostingClassifier  0.895601   0.909490  0.896701  0.903050   \n",
       "7     SupportVectorClassifier  0.870088   0.880000  0.880476  0.880238   \n",
       "8          AdaBoostClassifier  0.868328   0.886313  0.868578  0.877356   \n",
       "3          LogisticRegression  0.744868   0.777967  0.740941  0.759003   \n",
       "\n",
       "        AUC  \n",
       "0  0.955026  \n",
       "4  0.938349  \n",
       "5  0.935149  \n",
       "1  0.930806  \n",
       "6  0.930360  \n",
       "2  0.895500  \n",
       "7  0.869130  \n",
       "8  0.868305  \n",
       "3  0.745230  "
      ]
     },
     "execution_count": 191,
     "metadata": {},
     "output_type": "execute_result"
    }
   ],
   "source": [
    "base_model_report"
   ]
  },
  {
   "cell_type": "markdown",
   "metadata": {},
   "source": [
    "### HyperParameter Tuning"
   ]
  },
  {
   "cell_type": "code",
   "execution_count": 106,
   "metadata": {},
   "outputs": [],
   "source": [
    "# hyper parameter tuning\n",
    "#Initialize few parameter for Hyperparamter tuning\n",
    "xgboost_params = {\n",
    "    'max_depth':range(3,10,2),\n",
    "    'min_child_weight':range(1,6,2)\n",
    "}\n",
    "\n",
    "rf_params = {\n",
    "    \"max_depth\": [10, 12, None, 15, 20],\n",
    "    \"max_features\": ['sqrt', 'log2', None],\n",
    "    \"n_estimators\": [10, 50, 100, 200]\n",
    "}\n",
    "\n",
    "knn_params = {\n",
    "    \"algorithm\": ['auto', 'ball_tree', 'kd_tree','brute'],\n",
    "    \"weights\": ['uniform', 'distance'],\n",
    "    \"n_neighbors\": [3, 4, 5, 7, 9],\n",
    "}"
   ]
  },
  {
   "cell_type": "code",
   "execution_count": 107,
   "metadata": {},
   "outputs": [],
   "source": [
    "# Models list for Hyperparameter tuning\n",
    "randomcv_models = [\n",
    "    ('XGBoost', XGBClassifier(), xgboost_params),\n",
    "    (\"RF\", RandomForestClassifier(), rf_params),\n",
    "    (\"KNN\", KNeighborsClassifier(), knn_params)\n",
    "]"
   ]
  },
  {
   "cell_type": "code",
   "execution_count": 109,
   "metadata": {},
   "outputs": [
    {
     "name": "stdout",
     "output_type": "stream",
     "text": [
      "Fitting 3 folds for each of 12 candidates, totalling 36 fits\n",
      "[CV] END ....................max_depth=3, min_child_weight=1; total time=   0.0s\n",
      "[CV] END ....................max_depth=3, min_child_weight=1; total time=   0.0s\n",
      "[CV] END ....................max_depth=3, min_child_weight=1; total time=   0.0s\n",
      "[CV] END ....................max_depth=3, min_child_weight=3; total time=   0.0s\n",
      "[CV] END ....................max_depth=3, min_child_weight=3; total time=   0.0s\n",
      "[CV] END ....................max_depth=3, min_child_weight=3; total time=   0.0s\n",
      "[CV] END ....................max_depth=3, min_child_weight=5; total time=   0.0s\n",
      "[CV] END ....................max_depth=3, min_child_weight=5; total time=   0.0s\n",
      "[CV] END ....................max_depth=3, min_child_weight=5; total time=   0.0s\n",
      "[CV] END ....................max_depth=5, min_child_weight=1; total time=   0.0s\n",
      "[CV] END ....................max_depth=5, min_child_weight=1; total time=   0.0s\n",
      "[CV] END ....................max_depth=5, min_child_weight=1; total time=   0.0s\n",
      "[CV] END ....................max_depth=5, min_child_weight=3; total time=   0.0s\n",
      "[CV] END ....................max_depth=5, min_child_weight=3; total time=   0.0s\n",
      "[CV] END ....................max_depth=5, min_child_weight=3; total time=   0.0s\n",
      "[CV] END ....................max_depth=5, min_child_weight=5; total time=   0.0s\n",
      "[CV] END ....................max_depth=5, min_child_weight=5; total time=   0.0s\n",
      "[CV] END ....................max_depth=5, min_child_weight=5; total time=   0.0s\n",
      "[CV] END ....................max_depth=7, min_child_weight=1; total time=   0.0s\n",
      "[CV] END ....................max_depth=7, min_child_weight=1; total time=   0.0s\n",
      "[CV] END ....................max_depth=7, min_child_weight=1; total time=   0.1s\n",
      "[CV] END ....................max_depth=7, min_child_weight=3; total time=   0.1s\n",
      "[CV] END ....................max_depth=7, min_child_weight=3; total time=   0.0s\n",
      "[CV] END ....................max_depth=7, min_child_weight=3; total time=   0.0s\n",
      "[CV] END ....................max_depth=7, min_child_weight=5; total time=   0.0s\n",
      "[CV] END ....................max_depth=7, min_child_weight=5; total time=   0.0s\n",
      "[CV] END ....................max_depth=7, min_child_weight=5; total time=   0.0s\n",
      "[CV] END ....................max_depth=9, min_child_weight=1; total time=   0.1s\n",
      "[CV] END ....................max_depth=9, min_child_weight=1; total time=   0.1s\n",
      "[CV] END ....................max_depth=9, min_child_weight=1; total time=   0.1s\n",
      "[CV] END ....................max_depth=9, min_child_weight=3; total time=   0.1s\n",
      "[CV] END ....................max_depth=9, min_child_weight=3; total time=   0.1s\n",
      "[CV] END ....................max_depth=9, min_child_weight=3; total time=   0.1s\n",
      "[CV] END ....................max_depth=9, min_child_weight=5; total time=   0.1s\n",
      "[CV] END ....................max_depth=9, min_child_weight=5; total time=   0.1s\n",
      "[CV] END ....................max_depth=9, min_child_weight=5; total time=   0.1s\n",
      "Fitting 3 folds for each of 60 candidates, totalling 180 fits\n",
      "[CV] END ...max_depth=10, max_features=sqrt, n_estimators=10; total time=   0.1s\n",
      "[CV] END ...max_depth=10, max_features=sqrt, n_estimators=10; total time=   0.1s\n",
      "[CV] END ...max_depth=10, max_features=sqrt, n_estimators=10; total time=   0.1s\n",
      "[CV] END ...max_depth=10, max_features=sqrt, n_estimators=50; total time=   1.1s\n",
      "[CV] END ...max_depth=10, max_features=sqrt, n_estimators=50; total time=   1.0s\n",
      "[CV] END ...max_depth=10, max_features=sqrt, n_estimators=50; total time=   0.9s\n",
      "[CV] END ..max_depth=10, max_features=sqrt, n_estimators=100; total time=   2.2s\n",
      "[CV] END ..max_depth=10, max_features=sqrt, n_estimators=100; total time=   2.0s\n",
      "[CV] END ..max_depth=10, max_features=sqrt, n_estimators=100; total time=   2.0s\n",
      "[CV] END ..max_depth=10, max_features=sqrt, n_estimators=200; total time=   4.5s\n",
      "[CV] END ..max_depth=10, max_features=sqrt, n_estimators=200; total time=   4.2s\n",
      "[CV] END ..max_depth=10, max_features=sqrt, n_estimators=200; total time=   3.9s\n",
      "[CV] END ...max_depth=10, max_features=log2, n_estimators=10; total time=   0.1s\n",
      "[CV] END ...max_depth=10, max_features=log2, n_estimators=10; total time=   0.1s\n",
      "[CV] END ...max_depth=10, max_features=log2, n_estimators=10; total time=   0.1s\n",
      "[CV] END ...max_depth=10, max_features=log2, n_estimators=50; total time=   1.0s\n",
      "[CV] END ...max_depth=10, max_features=log2, n_estimators=50; total time=   1.0s\n",
      "[CV] END ...max_depth=10, max_features=log2, n_estimators=50; total time=   1.0s\n",
      "[CV] END ..max_depth=10, max_features=log2, n_estimators=100; total time=   2.1s\n",
      "[CV] END ..max_depth=10, max_features=log2, n_estimators=100; total time=   1.9s\n",
      "[CV] END ..max_depth=10, max_features=log2, n_estimators=100; total time=   1.8s\n",
      "[CV] END ..max_depth=10, max_features=log2, n_estimators=200; total time=   4.3s\n",
      "[CV] END ..max_depth=10, max_features=log2, n_estimators=200; total time=   4.0s\n",
      "[CV] END ..max_depth=10, max_features=log2, n_estimators=200; total time=   3.9s\n",
      "[CV] END ...max_depth=10, max_features=None, n_estimators=10; total time=   1.1s\n",
      "[CV] END ...max_depth=10, max_features=None, n_estimators=10; total time=   1.0s\n",
      "[CV] END ...max_depth=10, max_features=None, n_estimators=10; total time=   0.9s\n",
      "[CV] END ...max_depth=10, max_features=None, n_estimators=50; total time=   5.9s\n",
      "[CV] END ...max_depth=10, max_features=None, n_estimators=50; total time=   5.2s\n",
      "[CV] END ...max_depth=10, max_features=None, n_estimators=50; total time=   4.9s\n",
      "[CV] END ..max_depth=10, max_features=None, n_estimators=100; total time=  11.4s\n",
      "[CV] END ..max_depth=10, max_features=None, n_estimators=100; total time=  10.5s\n",
      "[CV] END ..max_depth=10, max_features=None, n_estimators=100; total time=   9.7s\n",
      "[CV] END ..max_depth=10, max_features=None, n_estimators=200; total time=  23.0s\n",
      "[CV] END ..max_depth=10, max_features=None, n_estimators=200; total time=  21.1s\n",
      "[CV] END ..max_depth=10, max_features=None, n_estimators=200; total time=  19.6s\n",
      "[CV] END ...max_depth=12, max_features=sqrt, n_estimators=10; total time=   0.2s\n",
      "[CV] END ...max_depth=12, max_features=sqrt, n_estimators=10; total time=   0.2s\n",
      "[CV] END ...max_depth=12, max_features=sqrt, n_estimators=10; total time=   0.1s\n",
      "[CV] END ...max_depth=12, max_features=sqrt, n_estimators=50; total time=   1.2s\n",
      "[CV] END ...max_depth=12, max_features=sqrt, n_estimators=50; total time=   1.1s\n",
      "[CV] END ...max_depth=12, max_features=sqrt, n_estimators=50; total time=   1.1s\n",
      "[CV] END ..max_depth=12, max_features=sqrt, n_estimators=100; total time=   2.5s\n",
      "[CV] END ..max_depth=12, max_features=sqrt, n_estimators=100; total time=   2.2s\n",
      "[CV] END ..max_depth=12, max_features=sqrt, n_estimators=100; total time=   2.2s\n",
      "[CV] END ..max_depth=12, max_features=sqrt, n_estimators=200; total time=   4.9s\n",
      "[CV] END ..max_depth=12, max_features=sqrt, n_estimators=200; total time=   4.6s\n",
      "[CV] END ..max_depth=12, max_features=sqrt, n_estimators=200; total time=   4.5s\n",
      "[CV] END ...max_depth=12, max_features=log2, n_estimators=10; total time=   0.1s\n",
      "[CV] END ...max_depth=12, max_features=log2, n_estimators=10; total time=   0.2s\n",
      "[CV] END ...max_depth=12, max_features=log2, n_estimators=10; total time=   0.1s\n",
      "[CV] END ...max_depth=12, max_features=log2, n_estimators=50; total time=   1.2s\n",
      "[CV] END ...max_depth=12, max_features=log2, n_estimators=50; total time=   1.0s\n",
      "[CV] END ...max_depth=12, max_features=log2, n_estimators=50; total time=   1.0s\n",
      "[CV] END ..max_depth=12, max_features=log2, n_estimators=100; total time=   2.5s\n",
      "[CV] END ..max_depth=12, max_features=log2, n_estimators=100; total time=   2.3s\n",
      "[CV] END ..max_depth=12, max_features=log2, n_estimators=100; total time=   2.2s\n",
      "[CV] END ..max_depth=12, max_features=log2, n_estimators=200; total time=   4.9s\n",
      "[CV] END ..max_depth=12, max_features=log2, n_estimators=200; total time=   4.8s\n",
      "[CV] END ..max_depth=12, max_features=log2, n_estimators=200; total time=   4.8s\n",
      "[CV] END ...max_depth=12, max_features=None, n_estimators=10; total time=   1.2s\n",
      "[CV] END ...max_depth=12, max_features=None, n_estimators=10; total time=   1.1s\n",
      "[CV] END ...max_depth=12, max_features=None, n_estimators=10; total time=   1.0s\n",
      "[CV] END ...max_depth=12, max_features=None, n_estimators=50; total time=   6.5s\n",
      "[CV] END ...max_depth=12, max_features=None, n_estimators=50; total time=   5.9s\n",
      "[CV] END ...max_depth=12, max_features=None, n_estimators=50; total time=   5.4s\n",
      "[CV] END ..max_depth=12, max_features=None, n_estimators=100; total time=  12.8s\n",
      "[CV] END ..max_depth=12, max_features=None, n_estimators=100; total time=  11.7s\n",
      "[CV] END ..max_depth=12, max_features=None, n_estimators=100; total time=  10.7s\n",
      "[CV] END ..max_depth=12, max_features=None, n_estimators=200; total time=  25.3s\n",
      "[CV] END ..max_depth=12, max_features=None, n_estimators=200; total time=  23.5s\n",
      "[CV] END ..max_depth=12, max_features=None, n_estimators=200; total time=  21.4s\n",
      "[CV] END .max_depth=None, max_features=sqrt, n_estimators=10; total time=   0.2s\n",
      "[CV] END .max_depth=None, max_features=sqrt, n_estimators=10; total time=   0.2s\n",
      "[CV] END .max_depth=None, max_features=sqrt, n_estimators=10; total time=   0.2s\n",
      "[CV] END .max_depth=None, max_features=sqrt, n_estimators=50; total time=   1.5s\n",
      "[CV] END .max_depth=None, max_features=sqrt, n_estimators=50; total time=   1.5s\n",
      "[CV] END .max_depth=None, max_features=sqrt, n_estimators=50; total time=   1.4s\n",
      "[CV] END max_depth=None, max_features=sqrt, n_estimators=100; total time=   3.3s\n",
      "[CV] END max_depth=None, max_features=sqrt, n_estimators=100; total time=   3.1s\n",
      "[CV] END max_depth=None, max_features=sqrt, n_estimators=100; total time=   2.8s\n",
      "[CV] END max_depth=None, max_features=sqrt, n_estimators=200; total time=   6.5s\n",
      "[CV] END max_depth=None, max_features=sqrt, n_estimators=200; total time=   6.2s\n",
      "[CV] END max_depth=None, max_features=sqrt, n_estimators=200; total time=   6.0s\n",
      "[CV] END .max_depth=None, max_features=log2, n_estimators=10; total time=   0.2s\n",
      "[CV] END .max_depth=None, max_features=log2, n_estimators=10; total time=   0.2s\n",
      "[CV] END .max_depth=None, max_features=log2, n_estimators=10; total time=   0.2s\n",
      "[CV] END .max_depth=None, max_features=log2, n_estimators=50; total time=   1.6s\n",
      "[CV] END .max_depth=None, max_features=log2, n_estimators=50; total time=   1.5s\n",
      "[CV] END .max_depth=None, max_features=log2, n_estimators=50; total time=   1.4s\n",
      "[CV] END max_depth=None, max_features=log2, n_estimators=100; total time=   3.2s\n",
      "[CV] END max_depth=None, max_features=log2, n_estimators=100; total time=   3.0s\n",
      "[CV] END max_depth=None, max_features=log2, n_estimators=100; total time=   2.9s\n",
      "[CV] END max_depth=None, max_features=log2, n_estimators=200; total time=   6.6s\n",
      "[CV] END max_depth=None, max_features=log2, n_estimators=200; total time=   6.1s\n",
      "[CV] END max_depth=None, max_features=log2, n_estimators=200; total time=   5.9s\n",
      "[CV] END .max_depth=None, max_features=None, n_estimators=10; total time=   1.3s\n",
      "[CV] END .max_depth=None, max_features=None, n_estimators=10; total time=   1.3s\n",
      "[CV] END .max_depth=None, max_features=None, n_estimators=10; total time=   1.1s\n",
      "[CV] END .max_depth=None, max_features=None, n_estimators=50; total time=   7.2s\n",
      "[CV] END .max_depth=None, max_features=None, n_estimators=50; total time=   6.5s\n",
      "[CV] END .max_depth=None, max_features=None, n_estimators=50; total time=   6.0s\n",
      "[CV] END max_depth=None, max_features=None, n_estimators=100; total time=  14.3s\n",
      "[CV] END max_depth=None, max_features=None, n_estimators=100; total time=  13.6s\n",
      "[CV] END max_depth=None, max_features=None, n_estimators=100; total time=  12.4s\n",
      "[CV] END max_depth=None, max_features=None, n_estimators=200; total time=  39.4s\n",
      "[CV] END max_depth=None, max_features=None, n_estimators=200; total time=  27.7s\n",
      "[CV] END max_depth=None, max_features=None, n_estimators=200; total time=  27.4s\n",
      "[CV] END ...max_depth=15, max_features=sqrt, n_estimators=10; total time=   0.3s\n",
      "[CV] END ...max_depth=15, max_features=sqrt, n_estimators=10; total time=   0.3s\n",
      "[CV] END ...max_depth=15, max_features=sqrt, n_estimators=10; total time=   0.2s\n",
      "[CV] END ...max_depth=15, max_features=sqrt, n_estimators=50; total time=   1.6s\n",
      "[CV] END ...max_depth=15, max_features=sqrt, n_estimators=50; total time=   1.5s\n",
      "[CV] END ...max_depth=15, max_features=sqrt, n_estimators=50; total time=   1.3s\n",
      "[CV] END ..max_depth=15, max_features=sqrt, n_estimators=100; total time=   3.4s\n",
      "[CV] END ..max_depth=15, max_features=sqrt, n_estimators=100; total time=   3.2s\n",
      "[CV] END ..max_depth=15, max_features=sqrt, n_estimators=100; total time=   3.0s\n",
      "[CV] END ..max_depth=15, max_features=sqrt, n_estimators=200; total time=   6.7s\n",
      "[CV] END ..max_depth=15, max_features=sqrt, n_estimators=200; total time=   6.4s\n",
      "[CV] END ..max_depth=15, max_features=sqrt, n_estimators=200; total time=   6.1s\n",
      "[CV] END ...max_depth=15, max_features=log2, n_estimators=10; total time=   0.3s\n",
      "[CV] END ...max_depth=15, max_features=log2, n_estimators=10; total time=   0.2s\n",
      "[CV] END ...max_depth=15, max_features=log2, n_estimators=10; total time=   0.2s\n",
      "[CV] END ...max_depth=15, max_features=log2, n_estimators=50; total time=   1.7s\n",
      "[CV] END ...max_depth=15, max_features=log2, n_estimators=50; total time=   1.5s\n",
      "[CV] END ...max_depth=15, max_features=log2, n_estimators=50; total time=   1.4s\n",
      "[CV] END ..max_depth=15, max_features=log2, n_estimators=100; total time=   3.3s\n",
      "[CV] END ..max_depth=15, max_features=log2, n_estimators=100; total time=   3.0s\n",
      "[CV] END ..max_depth=15, max_features=log2, n_estimators=100; total time=   3.0s\n",
      "[CV] END ..max_depth=15, max_features=log2, n_estimators=200; total time=   6.7s\n",
      "[CV] END ..max_depth=15, max_features=log2, n_estimators=200; total time=   5.6s\n",
      "[CV] END ..max_depth=15, max_features=log2, n_estimators=200; total time=   5.2s\n",
      "[CV] END ...max_depth=15, max_features=None, n_estimators=10; total time=   1.3s\n",
      "[CV] END ...max_depth=15, max_features=None, n_estimators=10; total time=   1.2s\n",
      "[CV] END ...max_depth=15, max_features=None, n_estimators=10; total time=   1.1s\n",
      "[CV] END ...max_depth=15, max_features=None, n_estimators=50; total time=   7.2s\n",
      "[CV] END ...max_depth=15, max_features=None, n_estimators=50; total time=   6.4s\n",
      "[CV] END ...max_depth=15, max_features=None, n_estimators=50; total time=   5.7s\n",
      "[CV] END ..max_depth=15, max_features=None, n_estimators=100; total time=  13.8s\n",
      "[CV] END ..max_depth=15, max_features=None, n_estimators=100; total time=  13.0s\n",
      "[CV] END ..max_depth=15, max_features=None, n_estimators=100; total time=  11.7s\n",
      "[CV] END ..max_depth=15, max_features=None, n_estimators=200; total time=  29.8s\n",
      "[CV] END ..max_depth=15, max_features=None, n_estimators=200; total time=  26.1s\n",
      "[CV] END ..max_depth=15, max_features=None, n_estimators=200; total time=  23.5s\n",
      "[CV] END ...max_depth=20, max_features=sqrt, n_estimators=10; total time=   0.2s\n",
      "[CV] END ...max_depth=20, max_features=sqrt, n_estimators=10; total time=   0.2s\n",
      "[CV] END ...max_depth=20, max_features=sqrt, n_estimators=10; total time=   0.2s\n",
      "[CV] END ...max_depth=20, max_features=sqrt, n_estimators=50; total time=   1.4s\n",
      "[CV] END ...max_depth=20, max_features=sqrt, n_estimators=50; total time=   1.4s\n",
      "[CV] END ...max_depth=20, max_features=sqrt, n_estimators=50; total time=   1.4s\n",
      "[CV] END ..max_depth=20, max_features=sqrt, n_estimators=100; total time=   3.1s\n",
      "[CV] END ..max_depth=20, max_features=sqrt, n_estimators=100; total time=   2.9s\n",
      "[CV] END ..max_depth=20, max_features=sqrt, n_estimators=100; total time=   2.7s\n",
      "[CV] END ..max_depth=20, max_features=sqrt, n_estimators=200; total time=   6.4s\n",
      "[CV] END ..max_depth=20, max_features=sqrt, n_estimators=200; total time=   5.9s\n",
      "[CV] END ..max_depth=20, max_features=sqrt, n_estimators=200; total time=   5.9s\n",
      "[CV] END ...max_depth=20, max_features=log2, n_estimators=10; total time=   0.2s\n",
      "[CV] END ...max_depth=20, max_features=log2, n_estimators=10; total time=   0.2s\n",
      "[CV] END ...max_depth=20, max_features=log2, n_estimators=10; total time=   0.2s\n",
      "[CV] END ...max_depth=20, max_features=log2, n_estimators=50; total time=   1.5s\n",
      "[CV] END ...max_depth=20, max_features=log2, n_estimators=50; total time=   1.4s\n",
      "[CV] END ...max_depth=20, max_features=log2, n_estimators=50; total time=   1.4s\n",
      "[CV] END ..max_depth=20, max_features=log2, n_estimators=100; total time=   3.2s\n",
      "[CV] END ..max_depth=20, max_features=log2, n_estimators=100; total time=   3.0s\n",
      "[CV] END ..max_depth=20, max_features=log2, n_estimators=100; total time=   2.8s\n",
      "[CV] END ..max_depth=20, max_features=log2, n_estimators=200; total time=   6.6s\n",
      "[CV] END ..max_depth=20, max_features=log2, n_estimators=200; total time=   6.0s\n",
      "[CV] END ..max_depth=20, max_features=log2, n_estimators=200; total time=   5.7s\n",
      "[CV] END ...max_depth=20, max_features=None, n_estimators=10; total time=   1.3s\n",
      "[CV] END ...max_depth=20, max_features=None, n_estimators=10; total time=   1.3s\n",
      "[CV] END ...max_depth=20, max_features=None, n_estimators=10; total time=   1.1s\n",
      "[CV] END ...max_depth=20, max_features=None, n_estimators=50; total time=   7.1s\n",
      "[CV] END ...max_depth=20, max_features=None, n_estimators=50; total time=   6.7s\n",
      "[CV] END ...max_depth=20, max_features=None, n_estimators=50; total time=   5.9s\n",
      "[CV] END ..max_depth=20, max_features=None, n_estimators=100; total time=  14.3s\n",
      "[CV] END ..max_depth=20, max_features=None, n_estimators=100; total time=  13.2s\n",
      "[CV] END ..max_depth=20, max_features=None, n_estimators=100; total time=  11.8s\n",
      "[CV] END ..max_depth=20, max_features=None, n_estimators=200; total time=  28.5s\n",
      "[CV] END ..max_depth=20, max_features=None, n_estimators=200; total time=  27.2s\n",
      "[CV] END ..max_depth=20, max_features=None, n_estimators=200; total time=  23.8s\n",
      "Fitting 3 folds for each of 40 candidates, totalling 120 fits\n",
      "[CV] END .....algorithm=auto, n_neighbors=3, weights=uniform; total time=   0.0s\n",
      "[CV] END .....algorithm=auto, n_neighbors=3, weights=uniform; total time=   0.0s\n",
      "[CV] END .....algorithm=auto, n_neighbors=3, weights=uniform; total time=   0.0s\n",
      "[CV] END ....algorithm=auto, n_neighbors=3, weights=distance; total time=   0.0s\n",
      "[CV] END ....algorithm=auto, n_neighbors=3, weights=distance; total time=   0.0s\n",
      "[CV] END ....algorithm=auto, n_neighbors=3, weights=distance; total time=   0.0s\n",
      "[CV] END .....algorithm=auto, n_neighbors=4, weights=uniform; total time=   0.0s\n",
      "[CV] END .....algorithm=auto, n_neighbors=4, weights=uniform; total time=   0.0s\n",
      "[CV] END .....algorithm=auto, n_neighbors=4, weights=uniform; total time=   0.0s\n",
      "[CV] END ....algorithm=auto, n_neighbors=4, weights=distance; total time=   0.0s\n",
      "[CV] END ....algorithm=auto, n_neighbors=4, weights=distance; total time=   0.0s\n",
      "[CV] END ....algorithm=auto, n_neighbors=4, weights=distance; total time=   0.0s\n",
      "[CV] END .....algorithm=auto, n_neighbors=5, weights=uniform; total time=   0.0s\n",
      "[CV] END .....algorithm=auto, n_neighbors=5, weights=uniform; total time=   0.0s\n",
      "[CV] END .....algorithm=auto, n_neighbors=5, weights=uniform; total time=   0.0s\n",
      "[CV] END ....algorithm=auto, n_neighbors=5, weights=distance; total time=   0.0s\n",
      "[CV] END ....algorithm=auto, n_neighbors=5, weights=distance; total time=   0.0s\n",
      "[CV] END ....algorithm=auto, n_neighbors=5, weights=distance; total time=   0.0s\n",
      "[CV] END .....algorithm=auto, n_neighbors=7, weights=uniform; total time=   0.0s\n",
      "[CV] END .....algorithm=auto, n_neighbors=7, weights=uniform; total time=   0.0s\n",
      "[CV] END .....algorithm=auto, n_neighbors=7, weights=uniform; total time=   0.0s\n",
      "[CV] END ....algorithm=auto, n_neighbors=7, weights=distance; total time=   0.0s\n",
      "[CV] END ....algorithm=auto, n_neighbors=7, weights=distance; total time=   0.0s\n",
      "[CV] END ....algorithm=auto, n_neighbors=7, weights=distance; total time=   0.0s\n",
      "[CV] END .....algorithm=auto, n_neighbors=9, weights=uniform; total time=   0.0s\n",
      "[CV] END .....algorithm=auto, n_neighbors=9, weights=uniform; total time=   0.0s\n",
      "[CV] END .....algorithm=auto, n_neighbors=9, weights=uniform; total time=   0.0s\n",
      "[CV] END ....algorithm=auto, n_neighbors=9, weights=distance; total time=   0.0s\n",
      "[CV] END ....algorithm=auto, n_neighbors=9, weights=distance; total time=   0.0s\n",
      "[CV] END ....algorithm=auto, n_neighbors=9, weights=distance; total time=   0.0s\n",
      "[CV] END algorithm=ball_tree, n_neighbors=3, weights=uniform; total time=   0.8s\n",
      "[CV] END algorithm=ball_tree, n_neighbors=3, weights=uniform; total time=   0.8s\n",
      "[CV] END algorithm=ball_tree, n_neighbors=3, weights=uniform; total time=   0.8s\n",
      "[CV] END algorithm=ball_tree, n_neighbors=3, weights=distance; total time=   0.7s\n",
      "[CV] END algorithm=ball_tree, n_neighbors=3, weights=distance; total time=   0.8s\n",
      "[CV] END algorithm=ball_tree, n_neighbors=3, weights=distance; total time=   0.7s\n",
      "[CV] END algorithm=ball_tree, n_neighbors=4, weights=uniform; total time=   0.9s\n",
      "[CV] END algorithm=ball_tree, n_neighbors=4, weights=uniform; total time=   0.9s\n",
      "[CV] END algorithm=ball_tree, n_neighbors=4, weights=uniform; total time=   0.9s\n",
      "[CV] END algorithm=ball_tree, n_neighbors=4, weights=distance; total time=   0.8s\n",
      "[CV] END algorithm=ball_tree, n_neighbors=4, weights=distance; total time=   0.8s\n",
      "[CV] END algorithm=ball_tree, n_neighbors=4, weights=distance; total time=   0.8s\n",
      "[CV] END algorithm=ball_tree, n_neighbors=5, weights=uniform; total time=   0.9s\n",
      "[CV] END algorithm=ball_tree, n_neighbors=5, weights=uniform; total time=   0.9s\n",
      "[CV] END algorithm=ball_tree, n_neighbors=5, weights=uniform; total time=   0.9s\n",
      "[CV] END algorithm=ball_tree, n_neighbors=5, weights=distance; total time=   0.9s\n",
      "[CV] END algorithm=ball_tree, n_neighbors=5, weights=distance; total time=   0.9s\n",
      "[CV] END algorithm=ball_tree, n_neighbors=5, weights=distance; total time=   0.8s\n",
      "[CV] END algorithm=ball_tree, n_neighbors=7, weights=uniform; total time=   1.0s\n",
      "[CV] END algorithm=ball_tree, n_neighbors=7, weights=uniform; total time=   1.0s\n",
      "[CV] END algorithm=ball_tree, n_neighbors=7, weights=uniform; total time=   1.0s\n",
      "[CV] END algorithm=ball_tree, n_neighbors=7, weights=distance; total time=   0.9s\n",
      "[CV] END algorithm=ball_tree, n_neighbors=7, weights=distance; total time=   0.9s\n",
      "[CV] END algorithm=ball_tree, n_neighbors=7, weights=distance; total time=   0.9s\n",
      "[CV] END algorithm=ball_tree, n_neighbors=9, weights=uniform; total time=   1.0s\n",
      "[CV] END algorithm=ball_tree, n_neighbors=9, weights=uniform; total time=   1.0s\n",
      "[CV] END algorithm=ball_tree, n_neighbors=9, weights=uniform; total time=   1.0s\n",
      "[CV] END algorithm=ball_tree, n_neighbors=9, weights=distance; total time=   0.9s\n",
      "[CV] END algorithm=ball_tree, n_neighbors=9, weights=distance; total time=   1.0s\n",
      "[CV] END algorithm=ball_tree, n_neighbors=9, weights=distance; total time=   1.1s\n",
      "[CV] END ..algorithm=kd_tree, n_neighbors=3, weights=uniform; total time=   0.3s\n",
      "[CV] END ..algorithm=kd_tree, n_neighbors=3, weights=uniform; total time=   0.3s\n",
      "[CV] END ..algorithm=kd_tree, n_neighbors=3, weights=uniform; total time=   0.3s\n",
      "[CV] END .algorithm=kd_tree, n_neighbors=3, weights=distance; total time=   0.3s\n",
      "[CV] END .algorithm=kd_tree, n_neighbors=3, weights=distance; total time=   0.2s\n",
      "[CV] END .algorithm=kd_tree, n_neighbors=3, weights=distance; total time=   0.2s\n",
      "[CV] END ..algorithm=kd_tree, n_neighbors=4, weights=uniform; total time=   0.4s\n",
      "[CV] END ..algorithm=kd_tree, n_neighbors=4, weights=uniform; total time=   0.4s\n",
      "[CV] END ..algorithm=kd_tree, n_neighbors=4, weights=uniform; total time=   0.3s\n",
      "[CV] END .algorithm=kd_tree, n_neighbors=4, weights=distance; total time=   0.3s\n",
      "[CV] END .algorithm=kd_tree, n_neighbors=4, weights=distance; total time=   0.3s\n",
      "[CV] END .algorithm=kd_tree, n_neighbors=4, weights=distance; total time=   0.3s\n",
      "[CV] END ..algorithm=kd_tree, n_neighbors=5, weights=uniform; total time=   0.4s\n",
      "[CV] END ..algorithm=kd_tree, n_neighbors=5, weights=uniform; total time=   0.4s\n",
      "[CV] END ..algorithm=kd_tree, n_neighbors=5, weights=uniform; total time=   0.4s\n",
      "[CV] END .algorithm=kd_tree, n_neighbors=5, weights=distance; total time=   0.3s\n",
      "[CV] END .algorithm=kd_tree, n_neighbors=5, weights=distance; total time=   0.3s\n",
      "[CV] END .algorithm=kd_tree, n_neighbors=5, weights=distance; total time=   0.3s\n",
      "[CV] END ..algorithm=kd_tree, n_neighbors=7, weights=uniform; total time=   0.4s\n",
      "[CV] END ..algorithm=kd_tree, n_neighbors=7, weights=uniform; total time=   0.5s\n",
      "[CV] END ..algorithm=kd_tree, n_neighbors=7, weights=uniform; total time=   0.5s\n",
      "[CV] END .algorithm=kd_tree, n_neighbors=7, weights=distance; total time=   0.4s\n",
      "[CV] END .algorithm=kd_tree, n_neighbors=7, weights=distance; total time=   0.4s\n",
      "[CV] END .algorithm=kd_tree, n_neighbors=7, weights=distance; total time=   0.4s\n",
      "[CV] END ..algorithm=kd_tree, n_neighbors=9, weights=uniform; total time=   0.5s\n",
      "[CV] END ..algorithm=kd_tree, n_neighbors=9, weights=uniform; total time=   0.5s\n",
      "[CV] END ..algorithm=kd_tree, n_neighbors=9, weights=uniform; total time=   0.6s\n",
      "[CV] END .algorithm=kd_tree, n_neighbors=9, weights=distance; total time=   0.4s\n",
      "[CV] END .algorithm=kd_tree, n_neighbors=9, weights=distance; total time=   0.5s\n",
      "[CV] END .algorithm=kd_tree, n_neighbors=9, weights=distance; total time=   0.5s\n",
      "[CV] END ....algorithm=brute, n_neighbors=3, weights=uniform; total time=   0.0s\n",
      "[CV] END ....algorithm=brute, n_neighbors=3, weights=uniform; total time=   0.0s\n",
      "[CV] END ....algorithm=brute, n_neighbors=3, weights=uniform; total time=   0.0s\n",
      "[CV] END ...algorithm=brute, n_neighbors=3, weights=distance; total time=   0.0s\n",
      "[CV] END ...algorithm=brute, n_neighbors=3, weights=distance; total time=   0.0s\n",
      "[CV] END ...algorithm=brute, n_neighbors=3, weights=distance; total time=   0.0s\n",
      "[CV] END ....algorithm=brute, n_neighbors=4, weights=uniform; total time=   0.0s\n",
      "[CV] END ....algorithm=brute, n_neighbors=4, weights=uniform; total time=   0.0s\n",
      "[CV] END ....algorithm=brute, n_neighbors=4, weights=uniform; total time=   0.0s\n",
      "[CV] END ...algorithm=brute, n_neighbors=4, weights=distance; total time=   0.0s\n",
      "[CV] END ...algorithm=brute, n_neighbors=4, weights=distance; total time=   0.0s\n",
      "[CV] END ...algorithm=brute, n_neighbors=4, weights=distance; total time=   0.0s\n",
      "[CV] END ....algorithm=brute, n_neighbors=5, weights=uniform; total time=   0.0s\n",
      "[CV] END ....algorithm=brute, n_neighbors=5, weights=uniform; total time=   0.0s\n",
      "[CV] END ....algorithm=brute, n_neighbors=5, weights=uniform; total time=   0.0s\n",
      "[CV] END ...algorithm=brute, n_neighbors=5, weights=distance; total time=   0.0s\n",
      "[CV] END ...algorithm=brute, n_neighbors=5, weights=distance; total time=   0.0s\n",
      "[CV] END ...algorithm=brute, n_neighbors=5, weights=distance; total time=   0.0s\n",
      "[CV] END ....algorithm=brute, n_neighbors=7, weights=uniform; total time=   0.0s\n",
      "[CV] END ....algorithm=brute, n_neighbors=7, weights=uniform; total time=   0.0s\n",
      "[CV] END ....algorithm=brute, n_neighbors=7, weights=uniform; total time=   0.0s\n",
      "[CV] END ...algorithm=brute, n_neighbors=7, weights=distance; total time=   0.0s\n",
      "[CV] END ...algorithm=brute, n_neighbors=7, weights=distance; total time=   0.0s\n",
      "[CV] END ...algorithm=brute, n_neighbors=7, weights=distance; total time=   0.0s\n",
      "[CV] END ....algorithm=brute, n_neighbors=9, weights=uniform; total time=   0.0s\n",
      "[CV] END ....algorithm=brute, n_neighbors=9, weights=uniform; total time=   0.0s\n",
      "[CV] END ....algorithm=brute, n_neighbors=9, weights=uniform; total time=   0.0s\n",
      "[CV] END ...algorithm=brute, n_neighbors=9, weights=distance; total time=   0.0s\n",
      "[CV] END ...algorithm=brute, n_neighbors=9, weights=distance; total time=   0.0s\n",
      "[CV] END ...algorithm=brute, n_neighbors=9, weights=distance; total time=   0.0s\n",
      "------- Best Parameters for XGBoost -------\n",
      "XGBoost\n",
      "------- Best Parameters for RF -------\n",
      "RF\n",
      "------- Best Parameters for KNN -------\n",
      "KNN\n"
     ]
    }
   ],
   "source": [
    "model_param = {}\n",
    "# random search cross validation\n",
    "for name, model, params in randomcv_models:\n",
    "    random = RandomizedSearchCV(estimator=model,\n",
    "                                param_distributions=params,\n",
    "                                n_iter=100,\n",
    "                                cv=3,\n",
    "                                verbose=2,\n",
    "                                n_jobs=1)\n",
    "    random.fit(X_res, y_res)\n",
    "    model_param[name] = random.best_params_\n",
    "\n",
    "for model_name in model_param:\n",
    "    print(f\"------- Best Parameters for {model_name} -------\")\n",
    "    print(model_name)"
   ]
  },
  {
   "cell_type": "markdown",
   "metadata": {},
   "source": [
    "## 4. Retraining Model with Best Parameters"
   ]
  },
  {
   "cell_type": "code",
   "execution_count": 192,
   "metadata": {},
   "outputs": [
    {
     "name": "stdout",
     "output_type": "stream",
     "text": [
      "MODEL: RandomForestClassifier\n",
      "> Model Performance for Train Set:\n",
      ">> Accuracy: 1.0000\n",
      ">> F1 Score: 1.0000\n",
      ">> Precision: 1.0000\n",
      ">> Recall: 1.0000\n",
      ">> ROC AUC Score: 1.0000\n",
      "---\n",
      "> Model Performance for Test Set:\n",
      ">> Accuracy: 0.9548\n",
      ">> F1 Score: 0.9585\n",
      ">> Precision: 0.9549\n",
      ">> Recall: 0.9621\n",
      ">> ROC AUC Score: 0.9542\n",
      "-----------------------------------\n",
      "MODEL: KNeighborsClassifier\n",
      "> Model Performance for Train Set:\n",
      ">> Accuracy: 1.0000\n",
      ">> F1 Score: 1.0000\n",
      ">> Precision: 1.0000\n",
      ">> Recall: 1.0000\n",
      ">> ROC AUC Score: 1.0000\n",
      "---\n",
      "> Model Performance for Test Set:\n",
      ">> Accuracy: 0.9733\n",
      ">> F1 Score: 0.9757\n",
      ">> Precision: 0.9651\n",
      ">> Recall: 0.9865\n",
      ">> ROC AUC Score: 0.9721\n",
      "-----------------------------------\n",
      "MODEL: XGBClassifier\n",
      "> Model Performance for Train Set:\n",
      ">> Accuracy: 0.9995\n",
      ">> F1 Score: 0.9995\n",
      ">> Precision: 0.9993\n",
      ">> Recall: 0.9997\n",
      ">> ROC AUC Score: 0.9995\n",
      "---\n",
      "> Model Performance for Test Set:\n",
      ">> Accuracy: 0.9455\n",
      ">> F1 Score: 0.9498\n",
      ">> Precision: 0.9487\n",
      ">> Recall: 0.9508\n",
      ">> ROC AUC Score: 0.9450\n",
      "-----------------------------------\n"
     ]
    }
   ],
   "source": [
    "best_models = {\n",
    "    'RandomForestClassifier': RandomForestClassifier(**model_param['RF']),\n",
    "    'KNeighborsClassifier': KNeighborsClassifier(**model_param['KNN']),\n",
    "    'XGBClassifier': XGBClassifier(**model_param['XGBoost'], n_jobs=1),\n",
    "}\n",
    "tuned_report = evaluate_classifier_models(X=X_res, y=y_res, models=best_models)"
   ]
  },
  {
   "cell_type": "code",
   "execution_count": 193,
   "metadata": {},
   "outputs": [
    {
     "data": {
      "text/html": [
       "<div>\n",
       "<style scoped>\n",
       "    .dataframe tbody tr th:only-of-type {\n",
       "        vertical-align: middle;\n",
       "    }\n",
       "\n",
       "    .dataframe tbody tr th {\n",
       "        vertical-align: top;\n",
       "    }\n",
       "\n",
       "    .dataframe thead th {\n",
       "        text-align: right;\n",
       "    }\n",
       "</style>\n",
       "<table border=\"1\" class=\"dataframe\">\n",
       "  <thead>\n",
       "    <tr style=\"text-align: right;\">\n",
       "      <th></th>\n",
       "      <th>Model Name</th>\n",
       "      <th>Accuracy</th>\n",
       "      <th>Precision</th>\n",
       "      <th>Recall</th>\n",
       "      <th>F1-Score</th>\n",
       "      <th>AUC</th>\n",
       "    </tr>\n",
       "  </thead>\n",
       "  <tbody>\n",
       "    <tr>\n",
       "      <th>1</th>\n",
       "      <td>KNeighborsClassifier</td>\n",
       "      <td>0.973314</td>\n",
       "      <td>0.965079</td>\n",
       "      <td>0.986479</td>\n",
       "      <td>0.975662</td>\n",
       "      <td>0.972099</td>\n",
       "    </tr>\n",
       "    <tr>\n",
       "      <th>0</th>\n",
       "      <td>RandomForestClassifier</td>\n",
       "      <td>0.954839</td>\n",
       "      <td>0.954911</td>\n",
       "      <td>0.962142</td>\n",
       "      <td>0.958513</td>\n",
       "      <td>0.954165</td>\n",
       "    </tr>\n",
       "    <tr>\n",
       "      <th>2</th>\n",
       "      <td>XGBClassifier</td>\n",
       "      <td>0.945455</td>\n",
       "      <td>0.948732</td>\n",
       "      <td>0.950784</td>\n",
       "      <td>0.949757</td>\n",
       "      <td>0.944963</td>\n",
       "    </tr>\n",
       "  </tbody>\n",
       "</table>\n",
       "</div>"
      ],
      "text/plain": [
       "               Model Name  Accuracy  Precision    Recall  F1-Score       AUC\n",
       "1    KNeighborsClassifier  0.973314   0.965079  0.986479  0.975662  0.972099\n",
       "0  RandomForestClassifier  0.954839   0.954911  0.962142  0.958513  0.954165\n",
       "2           XGBClassifier  0.945455   0.948732  0.950784  0.949757  0.944963"
      ]
     },
     "execution_count": 193,
     "metadata": {},
     "output_type": "execute_result"
    }
   ],
   "source": [
    "tuned_report"
   ]
  },
  {
   "cell_type": "code",
   "execution_count": 194,
   "metadata": {},
   "outputs": [
    {
     "data": {
      "text/html": [
       "<style>#sk-container-id-3 {color: black;}#sk-container-id-3 pre{padding: 0;}#sk-container-id-3 div.sk-toggleable {background-color: white;}#sk-container-id-3 label.sk-toggleable__label {cursor: pointer;display: block;width: 100%;margin-bottom: 0;padding: 0.3em;box-sizing: border-box;text-align: center;}#sk-container-id-3 label.sk-toggleable__label-arrow:before {content: \"▸\";float: left;margin-right: 0.25em;color: #696969;}#sk-container-id-3 label.sk-toggleable__label-arrow:hover:before {color: black;}#sk-container-id-3 div.sk-estimator:hover label.sk-toggleable__label-arrow:before {color: black;}#sk-container-id-3 div.sk-toggleable__content {max-height: 0;max-width: 0;overflow: hidden;text-align: left;background-color: #f0f8ff;}#sk-container-id-3 div.sk-toggleable__content pre {margin: 0.2em;color: black;border-radius: 0.25em;background-color: #f0f8ff;}#sk-container-id-3 input.sk-toggleable__control:checked~div.sk-toggleable__content {max-height: 200px;max-width: 100%;overflow: auto;}#sk-container-id-3 input.sk-toggleable__control:checked~label.sk-toggleable__label-arrow:before {content: \"▾\";}#sk-container-id-3 div.sk-estimator input.sk-toggleable__control:checked~label.sk-toggleable__label {background-color: #d4ebff;}#sk-container-id-3 div.sk-label input.sk-toggleable__control:checked~label.sk-toggleable__label {background-color: #d4ebff;}#sk-container-id-3 input.sk-hidden--visually {border: 0;clip: rect(1px 1px 1px 1px);clip: rect(1px, 1px, 1px, 1px);height: 1px;margin: -1px;overflow: hidden;padding: 0;position: absolute;width: 1px;}#sk-container-id-3 div.sk-estimator {font-family: monospace;background-color: #f0f8ff;border: 1px dotted black;border-radius: 0.25em;box-sizing: border-box;margin-bottom: 0.5em;}#sk-container-id-3 div.sk-estimator:hover {background-color: #d4ebff;}#sk-container-id-3 div.sk-parallel-item::after {content: \"\";width: 100%;border-bottom: 1px solid gray;flex-grow: 1;}#sk-container-id-3 div.sk-label:hover label.sk-toggleable__label {background-color: #d4ebff;}#sk-container-id-3 div.sk-serial::before {content: \"\";position: absolute;border-left: 1px solid gray;box-sizing: border-box;top: 0;bottom: 0;left: 50%;z-index: 0;}#sk-container-id-3 div.sk-serial {display: flex;flex-direction: column;align-items: center;background-color: white;padding-right: 0.2em;padding-left: 0.2em;position: relative;}#sk-container-id-3 div.sk-item {position: relative;z-index: 1;}#sk-container-id-3 div.sk-parallel {display: flex;align-items: stretch;justify-content: center;background-color: white;position: relative;}#sk-container-id-3 div.sk-item::before, #sk-container-id-3 div.sk-parallel-item::before {content: \"\";position: absolute;border-left: 1px solid gray;box-sizing: border-box;top: 0;bottom: 0;left: 50%;z-index: -1;}#sk-container-id-3 div.sk-parallel-item {display: flex;flex-direction: column;z-index: 1;position: relative;background-color: white;}#sk-container-id-3 div.sk-parallel-item:first-child::after {align-self: flex-end;width: 50%;}#sk-container-id-3 div.sk-parallel-item:last-child::after {align-self: flex-start;width: 50%;}#sk-container-id-3 div.sk-parallel-item:only-child::after {width: 0;}#sk-container-id-3 div.sk-dashed-wrapped {border: 1px dashed gray;margin: 0 0.4em 0.5em 0.4em;box-sizing: border-box;padding-bottom: 0.4em;background-color: white;}#sk-container-id-3 div.sk-label label {font-family: monospace;font-weight: bold;display: inline-block;line-height: 1.2em;}#sk-container-id-3 div.sk-label-container {text-align: center;}#sk-container-id-3 div.sk-container {/* jupyter's `normalize.less` sets `[hidden] { display: none; }` but bootstrap.min.css set `[hidden] { display: none !important; }` so we also need the `!important` here to be able to override the default hidden behavior on the sphinx rendered scikit-learn.org. See: https://github.com/scikit-learn/scikit-learn/issues/21755 */display: inline-block !important;position: relative;}#sk-container-id-3 div.sk-text-repr-fallback {display: none;}</style><div id=\"sk-container-id-3\" class=\"sk-top-container\"><div class=\"sk-text-repr-fallback\"><pre>KNeighborsClassifier(n_neighbors=4, weights=&#x27;distance&#x27;)</pre><b>In a Jupyter environment, please rerun this cell to show the HTML representation or trust the notebook. <br />On GitHub, the HTML representation is unable to render, please try loading this page with nbviewer.org.</b></div><div class=\"sk-container\" hidden><div class=\"sk-item\"><div class=\"sk-estimator sk-toggleable\"><input class=\"sk-toggleable__control sk-hidden--visually\" id=\"sk-estimator-id-3\" type=\"checkbox\" checked><label for=\"sk-estimator-id-3\" class=\"sk-toggleable__label sk-toggleable__label-arrow\">KNeighborsClassifier</label><div class=\"sk-toggleable__content\"><pre>KNeighborsClassifier(n_neighbors=4, weights=&#x27;distance&#x27;)</pre></div></div></div></div></div>"
      ],
      "text/plain": [
       "KNeighborsClassifier(n_neighbors=4, weights='distance')"
      ]
     },
     "execution_count": 194,
     "metadata": {},
     "output_type": "execute_result"
    }
   ],
   "source": [
    "best_models['KNeighborsClassifier']"
   ]
  },
  {
   "cell_type": "code",
   "execution_count": 201,
   "metadata": {},
   "outputs": [],
   "source": [
    "# X_test = X_test.reshape(-1, 1)"
   ]
  },
  {
   "cell_type": "code",
   "execution_count": 210,
   "metadata": {},
   "outputs": [
    {
     "data": {
      "text/plain": [
       "array([0, 0, 1, ..., 0, 0, 1])"
      ]
     },
     "execution_count": 210,
     "metadata": {},
     "output_type": "execute_result"
    }
   ],
   "source": [
    "X_test"
   ]
  },
  {
   "cell_type": "code",
   "execution_count": 216,
   "metadata": {},
   "outputs": [
    {
     "name": "stdout",
     "output_type": "stream",
     "text": [
      "FINAL MODEL 'KNN'\n",
      "Accuracy Score value: 0.9733\n",
      "              precision    recall  f1-score   support\n",
      "\n",
      "           0       0.98      0.96      0.97      1561\n",
      "           1       0.97      0.99      0.98      1849\n",
      "\n",
      "    accuracy                           0.97      3410\n",
      "   macro avg       0.97      0.97      0.97      3410\n",
      "weighted avg       0.97      0.97      0.97      3410\n",
      "\n"
     ]
    }
   ],
   "source": [
    "# best_model = KNeighborsClassifier(**model_param['KNN'])\n",
    "best_model = best_models['KNeighborsClassifier']\n",
    "best_model = best_model.fit(X_train, y_train)\n",
    "y_pred = best_model.predict(X_test)\n",
    "score = accuracy_score(y_test,y_pred)\n",
    "cr = classification_report(y_test,y_pred)\n",
    "\n",
    "print(\"FINAL MODEL 'KNN'\")\n",
    "print (\"Accuracy Score value: {:.4f}\".format(score))\n",
    "print (cr)"
   ]
  },
  {
   "cell_type": "code",
   "execution_count": 217,
   "metadata": {},
   "outputs": [
    {
     "data": {
      "text/plain": [
       "<sklearn.metrics._plot.confusion_matrix.ConfusionMatrixDisplay at 0x1dcea8d7f70>"
      ]
     },
     "execution_count": 217,
     "metadata": {},
     "output_type": "execute_result"
    },
    {
     "data": {
      "image/png": "[encoded data removed]",
      "text/plain": [
       "<Figure size 640x480 with 2 Axes>"
      ]
     },
     "metadata": {},
     "output_type": "display_data"
    }
   ],
   "source": [
    "ConfusionMatrixDisplay.from_estimator(best_model, X_test, y_test, cmap='viridis')"
   ]
  },
  {
   "cell_type": "markdown",
   "metadata": {},
   "source": [
    "# END"
   ]
  }
 ],
 "metadata": {
  "kernelspec": {
   "display_name": "visa",
   "language": "python",
   "name": "python3"
  },
  "language_info": {
   "codemirror_mode": {
    "name": "ipython",
    "version": 3
   },
   "file_extension": ".py",
   "mimetype": "text/x-python",
   "name": "python",
   "nbconvert_exporter": "python",
   "pygments_lexer": "ipython3",
   "version": "3.8.0"
  }
 },
 "nbformat": 4,
 "nbformat_minor": 2
}
